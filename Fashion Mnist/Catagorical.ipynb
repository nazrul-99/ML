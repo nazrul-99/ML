{
 "cells": [
  {
   "cell_type": "markdown",
   "metadata": {},
   "source": [
    "# This is a classification model\n",
    "* has different classes of output but answer is only one decision"
   ]
  },
  {
   "cell_type": "code",
   "execution_count": 1,
   "metadata": {},
   "outputs": [],
   "source": [
    "import numpy as np\n",
    "import pandas as pd\n",
    "%matplotlib inline \n",
    "import matplotlib as mpl\n",
    "import matplotlib.pyplot as plt"
   ]
  },
  {
   "cell_type": "code",
   "execution_count": 2,
   "metadata": {},
   "outputs": [],
   "source": [
    "import tensorflow as tf\n",
    "from tensorflow import keras"
   ]
  },
  {
   "cell_type": "markdown",
   "metadata": {},
   "source": [
    "We use \"fashion mnist dataset from keras where there is 60k grayscale image of 10 fashion catagory."
   ]
  },
  {
   "cell_type": "code",
   "execution_count": 3,
   "metadata": {},
   "outputs": [],
   "source": [
    "fashion_mnist = keras.datasets.fashion_mnist"
   ]
  },
  {
   "cell_type": "markdown",
   "metadata": {},
   "source": [
    "Now we will take the data sets in a dataframe for both train and test dataset"
   ]
  },
  {
   "cell_type": "code",
   "execution_count": 4,
   "metadata": {},
   "outputs": [],
   "source": [
    "(x_trainFull, y_trainFull), (x_test, y_test) = fashion_mnist.load_data()"
   ]
  },
  {
   "cell_type": "markdown",
   "metadata": {},
   "source": [
    "Now we can show the image using matplotlib"
   ]
  },
  {
   "cell_type": "code",
   "execution_count": 5,
   "metadata": {},
   "outputs": [
    {
     "data": {
      "text/plain": [
       "<matplotlib.image.AxesImage at 0x20edd56a908>"
      ]
     },
     "execution_count": 5,
     "metadata": {},
     "output_type": "execute_result"
    },
    {
     "data": {
      "image/png": "[encoded data removed]",
      "text/plain": [
       "<Figure size 432x288 with 1 Axes>"
      ]
     },
     "metadata": {
      "needs_background": "light"
     },
     "output_type": "display_data"
    }
   ],
   "source": [
    "plt.imshow(x_trainFull[0])"
   ]
  },
  {
   "cell_type": "code",
   "execution_count": 6,
   "metadata": {},
   "outputs": [
    {
     "data": {
      "text/plain": [
       "9"
      ]
     },
     "execution_count": 6,
     "metadata": {},
     "output_type": "execute_result"
    }
   ],
   "source": [
    "y_trainFull[0]"
   ]
  },
  {
   "cell_type": "code",
   "execution_count": 7,
   "metadata": {},
   "outputs": [],
   "source": [
    "class_names = [\"T-shirt/Top\", \"Trouser\", \"Pullover\", \"Dress\", \"Coat\", \"Sandal\", \"Shirt\", \" Sneaker\", \"Bag\", \"Ankle Boot\"]"
   ]
  },
  {
   "cell_type": "code",
   "execution_count": 8,
   "metadata": {},
   "outputs": [
    {
     "data": {
      "text/plain": [
       "'Ankle Boot'"
      ]
     },
     "execution_count": 8,
     "metadata": {},
     "output_type": "execute_result"
    }
   ],
   "source": [
    "class_names[y_trainFull[0]]"
   ]
  },
  {
   "cell_type": "code",
   "execution_count": 9,
   "metadata": {},
   "outputs": [
    {
     "data": {
      "text/plain": [
       "array([[  0,   0,   0,   0,   0,   0,   0,   0,   0,   0,   0,   0,   0,\n",
       "          0,   0,   0,   0,   0,   0,   0,   0,   0,   0,   0,   0,   0,\n",
       "          0,   0],\n",
       "       [  0,   0,   0,   0,   0,   0,   0,   0,   0,   0,   0,   0,   0,\n",
       "          0,   0,   0,   0,   0,   0,   0,   0,   0,   0,   0,   0,   0,\n",
       "          0,   0],\n",
       "       [  0,   0,   0,   0,   0,   0,   0,   0,   0,   0,   0,   0,   0,\n",
       "          0,   0,   0,   0,   0,   0,   0,   0,   0,   0,   0,   0,   0,\n",
       "          0,   0],\n",
       "       [  0,   0,   0,   0,   0,   0,   0,   0,   0,   0,   0,   0,   1,\n",
       "          0,   0,  13,  73,   0,   0,   1,   4,   0,   0,   0,   0,   1,\n",
       "          1,   0],\n",
       "       [  0,   0,   0,   0,   0,   0,   0,   0,   0,   0,   0,   0,   3,\n",
       "          0,  36, 136, 127,  62,  54,   0,   0,   0,   1,   3,   4,   0,\n",
       "          0,   3],\n",
       "       [  0,   0,   0,   0,   0,   0,   0,   0,   0,   0,   0,   0,   6,\n",
       "          0, 102, 204, 176, 134, 144, 123,  23,   0,   0,   0,   0,  12,\n",
       "         10,   0],\n",
       "       [  0,   0,   0,   0,   0,   0,   0,   0,   0,   0,   0,   0,   0,\n",
       "          0, 155, 236, 207, 178, 107, 156, 161, 109,  64,  23,  77, 130,\n",
       "         72,  15],\n",
       "       [  0,   0,   0,   0,   0,   0,   0,   0,   0,   0,   0,   1,   0,\n",
       "         69, 207, 223, 218, 216, 216, 163, 127, 121, 122, 146, 141,  88,\n",
       "        172,  66],\n",
       "       [  0,   0,   0,   0,   0,   0,   0,   0,   0,   1,   1,   1,   0,\n",
       "        200, 232, 232, 233, 229, 223, 223, 215, 213, 164, 127, 123, 196,\n",
       "        229,   0],\n",
       "       [  0,   0,   0,   0,   0,   0,   0,   0,   0,   0,   0,   0,   0,\n",
       "        183, 225, 216, 223, 228, 235, 227, 224, 222, 224, 221, 223, 245,\n",
       "        173,   0],\n",
       "       [  0,   0,   0,   0,   0,   0,   0,   0,   0,   0,   0,   0,   0,\n",
       "        193, 228, 218, 213, 198, 180, 212, 210, 211, 213, 223, 220, 243,\n",
       "        202,   0],\n",
       "       [  0,   0,   0,   0,   0,   0,   0,   0,   0,   1,   3,   0,  12,\n",
       "        219, 220, 212, 218, 192, 169, 227, 208, 218, 224, 212, 226, 197,\n",
       "        209,  52],\n",
       "       [  0,   0,   0,   0,   0,   0,   0,   0,   0,   0,   6,   0,  99,\n",
       "        244, 222, 220, 218, 203, 198, 221, 215, 213, 222, 220, 245, 119,\n",
       "        167,  56],\n",
       "       [  0,   0,   0,   0,   0,   0,   0,   0,   0,   4,   0,   0,  55,\n",
       "        236, 228, 230, 228, 240, 232, 213, 218, 223, 234, 217, 217, 209,\n",
       "         92,   0],\n",
       "       [  0,   0,   1,   4,   6,   7,   2,   0,   0,   0,   0,   0, 237,\n",
       "        226, 217, 223, 222, 219, 222, 221, 216, 223, 229, 215, 218, 255,\n",
       "         77,   0],\n",
       "       [  0,   3,   0,   0,   0,   0,   0,   0,   0,  62, 145, 204, 228,\n",
       "        207, 213, 221, 218, 208, 211, 218, 224, 223, 219, 215, 224, 244,\n",
       "        159,   0],\n",
       "       [  0,   0,   0,   0,  18,  44,  82, 107, 189, 228, 220, 222, 217,\n",
       "        226, 200, 205, 211, 230, 224, 234, 176, 188, 250, 248, 233, 238,\n",
       "        215,   0],\n",
       "       [  0,  57, 187, 208, 224, 221, 224, 208, 204, 214, 208, 209, 200,\n",
       "        159, 245, 193, 206, 223, 255, 255, 221, 234, 221, 211, 220, 232,\n",
       "        246,   0],\n",
       "       [  3, 202, 228, 224, 221, 211, 211, 214, 205, 205, 205, 220, 240,\n",
       "         80, 150, 255, 229, 221, 188, 154, 191, 210, 204, 209, 222, 228,\n",
       "        225,   0],\n",
       "       [ 98, 233, 198, 210, 222, 229, 229, 234, 249, 220, 194, 215, 217,\n",
       "        241,  65,  73, 106, 117, 168, 219, 221, 215, 217, 223, 223, 224,\n",
       "        229,  29],\n",
       "       [ 75, 204, 212, 204, 193, 205, 211, 225, 216, 185, 197, 206, 198,\n",
       "        213, 240, 195, 227, 245, 239, 223, 218, 212, 209, 222, 220, 221,\n",
       "        230,  67],\n",
       "       [ 48, 203, 183, 194, 213, 197, 185, 190, 194, 192, 202, 214, 219,\n",
       "        221, 220, 236, 225, 216, 199, 206, 186, 181, 177, 172, 181, 205,\n",
       "        206, 115],\n",
       "       [  0, 122, 219, 193, 179, 171, 183, 196, 204, 210, 213, 207, 211,\n",
       "        210, 200, 196, 194, 191, 195, 191, 198, 192, 176, 156, 167, 177,\n",
       "        210,  92],\n",
       "       [  0,   0,  74, 189, 212, 191, 175, 172, 175, 181, 185, 188, 189,\n",
       "        188, 193, 198, 204, 209, 210, 210, 211, 188, 188, 194, 192, 216,\n",
       "        170,   0],\n",
       "       [  2,   0,   0,   0,  66, 200, 222, 237, 239, 242, 246, 243, 244,\n",
       "        221, 220, 193, 191, 179, 182, 182, 181, 176, 166, 168,  99,  58,\n",
       "          0,   0],\n",
       "       [  0,   0,   0,   0,   0,   0,   0,  40,  61,  44,  72,  41,  35,\n",
       "          0,   0,   0,   0,   0,   0,   0,   0,   0,   0,   0,   0,   0,\n",
       "          0,   0],\n",
       "       [  0,   0,   0,   0,   0,   0,   0,   0,   0,   0,   0,   0,   0,\n",
       "          0,   0,   0,   0,   0,   0,   0,   0,   0,   0,   0,   0,   0,\n",
       "          0,   0],\n",
       "       [  0,   0,   0,   0,   0,   0,   0,   0,   0,   0,   0,   0,   0,\n",
       "          0,   0,   0,   0,   0,   0,   0,   0,   0,   0,   0,   0,   0,\n",
       "          0,   0]], dtype=uint8)"
      ]
     },
     "execution_count": 9,
     "metadata": {},
     "output_type": "execute_result"
    }
   ],
   "source": [
    "x_trainFull[0]"
   ]
  },
  {
   "cell_type": "markdown",
   "metadata": {},
   "source": [
    "It represent the 28 * 28 matrix of 28 * 28 pixel image. where 0 represent black and 255 represent the white"
   ]
  },
  {
   "cell_type": "markdown",
   "metadata": {},
   "source": [
    "## Data Normalization\n",
    "Now we will transform the x_train's each 28 * 28 matrix somehow only contain 0 and 1. This is what data normalization"
   ]
  },
  {
   "cell_type": "code",
   "execution_count": 10,
   "metadata": {},
   "outputs": [],
   "source": [
    "x_trainNormal = x_trainFull/255.0\n",
    "x_testNormal = x_test/255.0"
   ]
  },
  {
   "cell_type": "markdown",
   "metadata": {},
   "source": [
    "### Spit data into Train , Validation and Test datasets\n",
    "Here \n",
    "* First 5k data is been stored for validation (For optimizing)\n",
    "* Rest 55k data for train the data(For training model)\n",
    "* Test dataset has 10k data(To test the model accuracy)"
   ]
  },
  {
   "cell_type": "code",
   "execution_count": 11,
   "metadata": {},
   "outputs": [],
   "source": [
    "x_valid, x_train = x_trainNormal[:5000], x_trainNormal[5000:]\n",
    "y_valid, y_train = y_trainFull[:5000], y_trainFull[5000:]\n",
    "x_testCase = x_testNormal"
   ]
  },
  {
   "cell_type": "code",
   "execution_count": 12,
   "metadata": {},
   "outputs": [
    {
     "data": {
      "text/plain": [
       "array([[[0., 0., 0., ..., 0., 0., 0.],\n",
       "        [0., 0., 0., ..., 0., 0., 0.],\n",
       "        [0., 0., 0., ..., 0., 0., 0.],\n",
       "        ...,\n",
       "        [0., 0., 0., ..., 0., 0., 0.],\n",
       "        [0., 0., 0., ..., 0., 0., 0.],\n",
       "        [0., 0., 0., ..., 0., 0., 0.]],\n",
       "\n",
       "       [[0., 0., 0., ..., 0., 0., 0.],\n",
       "        [0., 0., 0., ..., 0., 0., 0.],\n",
       "        [0., 0., 0., ..., 0., 0., 0.],\n",
       "        ...,\n",
       "        [0., 0., 0., ..., 0., 0., 0.],\n",
       "        [0., 0., 0., ..., 0., 0., 0.],\n",
       "        [0., 0., 0., ..., 0., 0., 0.]],\n",
       "\n",
       "       [[0., 0., 0., ..., 0., 0., 0.],\n",
       "        [0., 0., 0., ..., 0., 0., 0.],\n",
       "        [0., 0., 0., ..., 0., 0., 0.],\n",
       "        ...,\n",
       "        [0., 0., 0., ..., 0., 0., 0.],\n",
       "        [0., 0., 0., ..., 0., 0., 0.],\n",
       "        [0., 0., 0., ..., 0., 0., 0.]],\n",
       "\n",
       "       ...,\n",
       "\n",
       "       [[0., 0., 0., ..., 0., 0., 0.],\n",
       "        [0., 0., 0., ..., 0., 0., 0.],\n",
       "        [0., 0., 0., ..., 0., 0., 0.],\n",
       "        ...,\n",
       "        [0., 0., 0., ..., 0., 0., 0.],\n",
       "        [0., 0., 0., ..., 0., 0., 0.],\n",
       "        [0., 0., 0., ..., 0., 0., 0.]],\n",
       "\n",
       "       [[0., 0., 0., ..., 0., 0., 0.],\n",
       "        [0., 0., 0., ..., 0., 0., 0.],\n",
       "        [0., 0., 0., ..., 0., 0., 0.],\n",
       "        ...,\n",
       "        [0., 0., 0., ..., 0., 0., 0.],\n",
       "        [0., 0., 0., ..., 0., 0., 0.],\n",
       "        [0., 0., 0., ..., 0., 0., 0.]],\n",
       "\n",
       "       [[0., 0., 0., ..., 0., 0., 0.],\n",
       "        [0., 0., 0., ..., 0., 0., 0.],\n",
       "        [0., 0., 0., ..., 0., 0., 0.],\n",
       "        ...,\n",
       "        [0., 0., 0., ..., 0., 0., 0.],\n",
       "        [0., 0., 0., ..., 0., 0., 0.],\n",
       "        [0., 0., 0., ..., 0., 0., 0.]]])"
      ]
     },
     "execution_count": 12,
     "metadata": {},
     "output_type": "execute_result"
    }
   ],
   "source": [
    "x_valid"
   ]
  },
  {
   "cell_type": "markdown",
   "metadata": {},
   "source": [
    "# Now we will create the model"
   ]
  },
  {
   "cell_type": "markdown",
   "metadata": {},
   "source": [
    "Now let us set random seeds which helps to find the same result every time"
   ]
  },
  {
   "cell_type": "code",
   "execution_count": 13,
   "metadata": {},
   "outputs": [],
   "source": [
    "np.random.seed(42)\n",
    "tf.random.set_seed(42)"
   ]
  },
  {
   "cell_type": "markdown",
   "metadata": {},
   "source": [
    "Now we will using a sequential model here<br>\n",
    "Also be noted here the 10 o/p is exclusive or each other. So it is a MULTICLASS CLASSIFICATION. Thus it has\n",
    "* Softmax activation\n",
    "* Hidden layer(Here 2 hidden layer with ReLU activation has been used)"
   ]
  },
  {
   "cell_type": "code",
   "execution_count": 14,
   "metadata": {},
   "outputs": [],
   "source": [
    "# As we are using a sequential model\n",
    "model = keras.models.Sequential()\n",
    "# As our i/p is 28*28 2D matrix we will flatten the matrix into 1D array for easy calculation\n",
    "model.add(keras.layers.Flatten(input_shape = [28,28]))\n",
    "# Now we will add some hidden layers\n",
    "model.add(keras.layers.Dense(300, activation = \"relu\"))\n",
    "model.add(keras.layers.Dense(100, activation = \"relu\"))\n",
    "# Now we will add the output layer\n",
    "model.add(keras.layers.Dense(10, activation = \"softmax\"))"
   ]
  },
  {
   "cell_type": "code",
   "execution_count": 15,
   "metadata": {},
   "outputs": [
    {
     "name": "stdout",
     "output_type": "stream",
     "text": [
      "Model: \"sequential\"\n",
      "_________________________________________________________________\n",
      "Layer (type)                 Output Shape              Param #   \n",
      "=================================================================\n",
      "flatten (Flatten)            (None, 784)               0         \n",
      "_________________________________________________________________\n",
      "dense (Dense)                (None, 300)               235500    \n",
      "_________________________________________________________________\n",
      "dense_1 (Dense)              (None, 100)               30100     \n",
      "_________________________________________________________________\n",
      "dense_2 (Dense)              (None, 10)                1010      \n",
      "=================================================================\n",
      "Total params: 266,610\n",
      "Trainable params: 266,610\n",
      "Non-trainable params: 0\n",
      "_________________________________________________________________\n"
     ]
    }
   ],
   "source": [
    "model.summary()"
   ]
  },
  {
   "cell_type": "markdown",
   "metadata": {},
   "source": [
    "Now to see the NEURAL NETWORK we can use \"pydot\""
   ]
  },
  {
   "cell_type": "code",
   "execution_count": 16,
   "metadata": {},
   "outputs": [
    {
     "data": {
      "image/png": "[encoded data removed]",
      "text/plain": [
       "<IPython.core.display.Image object>"
      ]
     },
     "execution_count": 16,
     "metadata": {},
     "output_type": "execute_result"
    }
   ],
   "source": [
    "import pydot\n",
    "keras.utils.plot_model(model)"
   ]
  },
  {
   "cell_type": "code",
   "execution_count": 17,
   "metadata": {},
   "outputs": [],
   "source": [
    "#To see the weight and biases\n",
    "weights, biases = model.layers[1].get_weights()"
   ]
  },
  {
   "cell_type": "code",
   "execution_count": 18,
   "metadata": {
    "scrolled": true
   },
   "outputs": [
    {
     "data": {
      "text/plain": [
       "array([[ 0.02448617, -0.00877795, -0.02189048, ..., -0.02766046,\n",
       "         0.03859074, -0.06889391],\n",
       "       [ 0.00476504, -0.03105379, -0.0586676 , ...,  0.00602964,\n",
       "        -0.02763776, -0.04165364],\n",
       "       [-0.06189284, -0.06901957,  0.07102345, ..., -0.04238207,\n",
       "         0.07121518, -0.07331658],\n",
       "       ...,\n",
       "       [-0.03048757,  0.02155137, -0.05400612, ..., -0.00113463,\n",
       "         0.00228987,  0.05581069],\n",
       "       [ 0.07061854, -0.06960931,  0.07038955, ..., -0.00384101,\n",
       "         0.00034875,  0.02878492],\n",
       "       [-0.06022581,  0.01577859, -0.02585464, ..., -0.00527829,\n",
       "         0.00272203, -0.06793761]], dtype=float32)"
      ]
     },
     "execution_count": 18,
     "metadata": {},
     "output_type": "execute_result"
    }
   ],
   "source": [
    "weights"
   ]
  },
  {
   "cell_type": "markdown",
   "metadata": {},
   "source": [
    "Here is 784 rows and 300 columns as there were 784 inputs after flatten the actaul input and 300 neurons in the hidden layer 1 which is the second layer of the model"
   ]
  },
  {
   "cell_type": "code",
   "execution_count": 19,
   "metadata": {},
   "outputs": [
    {
     "data": {
      "text/plain": [
       "(784, 300)"
      ]
     },
     "execution_count": 19,
     "metadata": {},
     "output_type": "execute_result"
    }
   ],
   "source": [
    "weights.shape"
   ]
  },
  {
   "cell_type": "code",
   "execution_count": 20,
   "metadata": {
    "scrolled": false
   },
   "outputs": [
    {
     "data": {
      "text/plain": [
       "array([0., 0., 0., 0., 0., 0., 0., 0., 0., 0., 0., 0., 0., 0., 0., 0., 0.,\n",
       "       0., 0., 0., 0., 0., 0., 0., 0., 0., 0., 0., 0., 0., 0., 0., 0., 0.,\n",
       "       0., 0., 0., 0., 0., 0., 0., 0., 0., 0., 0., 0., 0., 0., 0., 0., 0.,\n",
       "       0., 0., 0., 0., 0., 0., 0., 0., 0., 0., 0., 0., 0., 0., 0., 0., 0.,\n",
       "       0., 0., 0., 0., 0., 0., 0., 0., 0., 0., 0., 0., 0., 0., 0., 0., 0.,\n",
       "       0., 0., 0., 0., 0., 0., 0., 0., 0., 0., 0., 0., 0., 0., 0., 0., 0.,\n",
       "       0., 0., 0., 0., 0., 0., 0., 0., 0., 0., 0., 0., 0., 0., 0., 0., 0.,\n",
       "       0., 0., 0., 0., 0., 0., 0., 0., 0., 0., 0., 0., 0., 0., 0., 0., 0.,\n",
       "       0., 0., 0., 0., 0., 0., 0., 0., 0., 0., 0., 0., 0., 0., 0., 0., 0.,\n",
       "       0., 0., 0., 0., 0., 0., 0., 0., 0., 0., 0., 0., 0., 0., 0., 0., 0.,\n",
       "       0., 0., 0., 0., 0., 0., 0., 0., 0., 0., 0., 0., 0., 0., 0., 0., 0.,\n",
       "       0., 0., 0., 0., 0., 0., 0., 0., 0., 0., 0., 0., 0., 0., 0., 0., 0.,\n",
       "       0., 0., 0., 0., 0., 0., 0., 0., 0., 0., 0., 0., 0., 0., 0., 0., 0.,\n",
       "       0., 0., 0., 0., 0., 0., 0., 0., 0., 0., 0., 0., 0., 0., 0., 0., 0.,\n",
       "       0., 0., 0., 0., 0., 0., 0., 0., 0., 0., 0., 0., 0., 0., 0., 0., 0.,\n",
       "       0., 0., 0., 0., 0., 0., 0., 0., 0., 0., 0., 0., 0., 0., 0., 0., 0.,\n",
       "       0., 0., 0., 0., 0., 0., 0., 0., 0., 0., 0., 0., 0., 0., 0., 0., 0.,\n",
       "       0., 0., 0., 0., 0., 0., 0., 0., 0., 0., 0.], dtype=float32)"
      ]
     },
     "execution_count": 20,
     "metadata": {},
     "output_type": "execute_result"
    }
   ],
   "source": [
    "biases"
   ]
  },
  {
   "cell_type": "markdown",
   "metadata": {},
   "source": [
    "There is 300 biases for the hidden layer 1 as there were 300 neurons"
   ]
  },
  {
   "cell_type": "code",
   "execution_count": 21,
   "metadata": {
    "scrolled": true
   },
   "outputs": [
    {
     "data": {
      "text/plain": [
       "(300,)"
      ]
     },
     "execution_count": 21,
     "metadata": {},
     "output_type": "execute_result"
    }
   ],
   "source": [
    "biases.shape"
   ]
  },
  {
   "cell_type": "markdown",
   "metadata": {},
   "source": [
    "# Now we will set up the learning process for the model"
   ]
  },
  {
   "cell_type": "markdown",
   "metadata": {},
   "source": [
    "To do learning we will use the COMPILE method"
   ]
  },
  {
   "cell_type": "code",
   "execution_count": 22,
   "metadata": {},
   "outputs": [],
   "source": [
    "model.compile(loss = \"sparse_categorical_crossentropy\",\n",
    "              optimizer = \"sgd\",\n",
    "              metrics = [\"accuracy\"])"
   ]
  },
  {
   "cell_type": "markdown",
   "metadata": {},
   "source": [
    "Here \n",
    "* loss \"sparse_categorical_crossentropy\" is used as our input data is sparse or exclusive.\n",
    "See also keras documentation for further\n",
    "* sgd stands for Sophisticated Gradient Descent\n",
    "* as here we are buiding classifier thus we have used accuracy and also be informed that metrics is a optional parameter"
   ]
  },
  {
   "cell_type": "markdown",
   "metadata": {},
   "source": [
    "### Training model"
   ]
  },
  {
   "cell_type": "code",
   "execution_count": 23,
   "metadata": {
    "scrolled": true
   },
   "outputs": [
    {
     "name": "stdout",
     "output_type": "stream",
     "text": [
      "Train on 55000 samples, validate on 5000 samples\n",
      "Epoch 1/75\n",
      "55000/55000 [==============================] - 4s 80us/sample - loss: 0.7226 - accuracy: 0.7641 - val_loss: 0.5073 - val_accuracy: 0.8320\n",
      "Epoch 2/75\n",
      "55000/55000 [==============================] - 4s 71us/sample - loss: 0.4844 - accuracy: 0.8323 - val_loss: 0.4538 - val_accuracy: 0.8488\n",
      "Epoch 3/75\n",
      "55000/55000 [==============================] - 4s 73us/sample - loss: 0.4414 - accuracy: 0.8463 - val_loss: 0.4378 - val_accuracy: 0.8498\n",
      "Epoch 4/75\n",
      "55000/55000 [==============================] - 4s 73us/sample - loss: 0.4129 - accuracy: 0.8547 - val_loss: 0.4164 - val_accuracy: 0.8556\n",
      "Epoch 5/75\n",
      "55000/55000 [==============================] - 4s 71us/sample - loss: 0.3927 - accuracy: 0.8617 - val_loss: 0.3809 - val_accuracy: 0.8652\n",
      "Epoch 6/75\n",
      "55000/55000 [==============================] - 4s 72us/sample - loss: 0.3771 - accuracy: 0.8665 - val_loss: 0.3728 - val_accuracy: 0.8680\n",
      "Epoch 7/75\n",
      "55000/55000 [==============================] - 4s 75us/sample - loss: 0.3627 - accuracy: 0.8729 - val_loss: 0.3703 - val_accuracy: 0.8704\n",
      "Epoch 8/75\n",
      "55000/55000 [==============================] - 4s 68us/sample - loss: 0.3518 - accuracy: 0.8749 - val_loss: 0.3659 - val_accuracy: 0.8704\n",
      "Epoch 9/75\n",
      "55000/55000 [==============================] - 4s 73us/sample - loss: 0.3421 - accuracy: 0.8772 - val_loss: 0.3441 - val_accuracy: 0.8782\n",
      "Epoch 10/75\n",
      "55000/55000 [==============================] - 4s 76us/sample - loss: 0.3327 - accuracy: 0.8815 - val_loss: 0.3508 - val_accuracy: 0.8784\n",
      "Epoch 11/75\n",
      "55000/55000 [==============================] - 4s 73us/sample - loss: 0.3241 - accuracy: 0.8836 - val_loss: 0.3368 - val_accuracy: 0.8794\n",
      "Epoch 12/75\n",
      "55000/55000 [==============================] - 4s 70us/sample - loss: 0.3160 - accuracy: 0.8869 - val_loss: 0.3313 - val_accuracy: 0.8844\n",
      "Epoch 13/75\n",
      "55000/55000 [==============================] - 4s 71us/sample - loss: 0.3074 - accuracy: 0.8899 - val_loss: 0.3332 - val_accuracy: 0.8820\n",
      "Epoch 14/75\n",
      "55000/55000 [==============================] - 4s 70us/sample - loss: 0.3018 - accuracy: 0.8923 - val_loss: 0.3239 - val_accuracy: 0.8870\n",
      "Epoch 15/75\n",
      "55000/55000 [==============================] - 4s 70us/sample - loss: 0.2953 - accuracy: 0.8937 - val_loss: 0.3167 - val_accuracy: 0.8886\n",
      "Epoch 16/75\n",
      "55000/55000 [==============================] - 4s 72us/sample - loss: 0.2898 - accuracy: 0.8963 - val_loss: 0.3247 - val_accuracy: 0.8868\n",
      "Epoch 17/75\n",
      "55000/55000 [==============================] - 4s 70us/sample - loss: 0.2834 - accuracy: 0.8985 - val_loss: 0.3173 - val_accuracy: 0.8916\n",
      "Epoch 18/75\n",
      "55000/55000 [==============================] - 4s 69us/sample - loss: 0.2783 - accuracy: 0.8998 - val_loss: 0.3096 - val_accuracy: 0.8908\n",
      "Epoch 19/75\n",
      "55000/55000 [==============================] - 4s 68us/sample - loss: 0.2729 - accuracy: 0.9015 - val_loss: 0.3179 - val_accuracy: 0.8846\n",
      "Epoch 20/75\n",
      "55000/55000 [==============================] - 4s 70us/sample - loss: 0.2681 - accuracy: 0.9039 - val_loss: 0.3215 - val_accuracy: 0.8836\n",
      "Epoch 21/75\n",
      "55000/55000 [==============================] - 4s 72us/sample - loss: 0.2634 - accuracy: 0.9042 - val_loss: 0.2993 - val_accuracy: 0.8948\n",
      "Epoch 22/75\n",
      "55000/55000 [==============================] - 4s 71us/sample - loss: 0.2575 - accuracy: 0.9073 - val_loss: 0.3099 - val_accuracy: 0.8878\n",
      "Epoch 23/75\n",
      "55000/55000 [==============================] - 4s 70us/sample - loss: 0.2538 - accuracy: 0.9089 - val_loss: 0.2999 - val_accuracy: 0.8906\n",
      "Epoch 24/75\n",
      "55000/55000 [==============================] - 4s 69us/sample - loss: 0.2492 - accuracy: 0.9107 - val_loss: 0.3109 - val_accuracy: 0.8868\n",
      "Epoch 25/75\n",
      "55000/55000 [==============================] - 4s 71us/sample - loss: 0.2452 - accuracy: 0.9131 - val_loss: 0.3071 - val_accuracy: 0.8914\n",
      "Epoch 26/75\n",
      "55000/55000 [==============================] - 5s 87us/sample - loss: 0.2408 - accuracy: 0.9142 - val_loss: 0.3257 - val_accuracy: 0.8854\n",
      "Epoch 27/75\n",
      "55000/55000 [==============================] - 4s 72us/sample - loss: 0.2368 - accuracy: 0.9151 - val_loss: 0.3133 - val_accuracy: 0.8866\n",
      "Epoch 28/75\n",
      "55000/55000 [==============================] - 4s 68us/sample - loss: 0.2322 - accuracy: 0.9173 - val_loss: 0.2934 - val_accuracy: 0.8954\n",
      "Epoch 29/75\n",
      "55000/55000 [==============================] - 4s 74us/sample - loss: 0.2287 - accuracy: 0.9188 - val_loss: 0.2989 - val_accuracy: 0.8934\n",
      "Epoch 30/75\n",
      "55000/55000 [==============================] - 4s 74us/sample - loss: 0.2256 - accuracy: 0.9193 - val_loss: 0.3030 - val_accuracy: 0.8902\n",
      "Epoch 31/75\n",
      "55000/55000 [==============================] - 4s 76us/sample - loss: 0.2211 - accuracy: 0.9213 - val_loss: 0.2952 - val_accuracy: 0.8972\n",
      "Epoch 32/75\n",
      "55000/55000 [==============================] - 4s 74us/sample - loss: 0.2191 - accuracy: 0.9206 - val_loss: 0.2934 - val_accuracy: 0.8944\n",
      "Epoch 33/75\n",
      "55000/55000 [==============================] - 4s 70us/sample - loss: 0.2144 - accuracy: 0.9216 - val_loss: 0.2876 - val_accuracy: 0.8984\n",
      "Epoch 34/75\n",
      "55000/55000 [==============================] - 4s 67us/sample - loss: 0.2107 - accuracy: 0.9249 - val_loss: 0.2835 - val_accuracy: 0.8978\n",
      "Epoch 35/75\n",
      "55000/55000 [==============================] - 4s 70us/sample - loss: 0.2075 - accuracy: 0.9261 - val_loss: 0.2930 - val_accuracy: 0.8946\n",
      "Epoch 36/75\n",
      "55000/55000 [==============================] - 4s 71us/sample - loss: 0.2047 - accuracy: 0.9272 - val_loss: 0.3041 - val_accuracy: 0.8956\n",
      "Epoch 37/75\n",
      "55000/55000 [==============================] - 4s 76us/sample - loss: 0.2007 - accuracy: 0.9280 - val_loss: 0.2918 - val_accuracy: 0.8954\n",
      "Epoch 38/75\n",
      "55000/55000 [==============================] - 4s 66us/sample - loss: 0.1993 - accuracy: 0.9293 - val_loss: 0.2927 - val_accuracy: 0.8946\n",
      "Epoch 39/75\n",
      "55000/55000 [==============================] - 4s 65us/sample - loss: 0.1938 - accuracy: 0.9314 - val_loss: 0.3104 - val_accuracy: 0.8874\n",
      "Epoch 40/75\n",
      "55000/55000 [==============================] - 4s 65us/sample - loss: 0.1927 - accuracy: 0.9311 - val_loss: 0.2944 - val_accuracy: 0.8974\n",
      "Epoch 41/75\n",
      "55000/55000 [==============================] - 4s 67us/sample - loss: 0.1889 - accuracy: 0.9324 - val_loss: 0.3029 - val_accuracy: 0.8952\n",
      "Epoch 42/75\n",
      "55000/55000 [==============================] - 4s 66us/sample - loss: 0.1857 - accuracy: 0.9339 - val_loss: 0.2914 - val_accuracy: 0.8928\n",
      "Epoch 43/75\n",
      "55000/55000 [==============================] - 4s 67us/sample - loss: 0.1831 - accuracy: 0.9348 - val_loss: 0.2955 - val_accuracy: 0.8954\n",
      "Epoch 44/75\n",
      "55000/55000 [==============================] - 4s 65us/sample - loss: 0.1798 - accuracy: 0.9362 - val_loss: 0.2946 - val_accuracy: 0.8986\n",
      "Epoch 45/75\n",
      "55000/55000 [==============================] - 4s 68us/sample - loss: 0.1768 - accuracy: 0.9384 - val_loss: 0.3020 - val_accuracy: 0.8908\n",
      "Epoch 46/75\n",
      "55000/55000 [==============================] - 4s 77us/sample - loss: 0.1751 - accuracy: 0.9372 - val_loss: 0.2883 - val_accuracy: 0.9000\n",
      "Epoch 47/75\n",
      "55000/55000 [==============================] - 4s 74us/sample - loss: 0.1715 - accuracy: 0.9396 - val_loss: 0.3118 - val_accuracy: 0.8938\n",
      "Epoch 48/75\n",
      "55000/55000 [==============================] - 4s 67us/sample - loss: 0.1691 - accuracy: 0.9405 - val_loss: 0.2867 - val_accuracy: 0.9006\n",
      "Epoch 49/75\n",
      "55000/55000 [==============================] - 4s 69us/sample - loss: 0.1656 - accuracy: 0.9421 - val_loss: 0.2948 - val_accuracy: 0.9012\n",
      "Epoch 50/75\n",
      "55000/55000 [==============================] - 4s 67us/sample - loss: 0.1643 - accuracy: 0.9409 - val_loss: 0.2887 - val_accuracy: 0.9014\n",
      "Epoch 51/75\n",
      "55000/55000 [==============================] - 4s 65us/sample - loss: 0.1598 - accuracy: 0.9435 - val_loss: 0.2934 - val_accuracy: 0.9004\n",
      "Epoch 52/75\n",
      "55000/55000 [==============================] - 4s 71us/sample - loss: 0.1578 - accuracy: 0.9446 - val_loss: 0.3125 - val_accuracy: 0.8942\n",
      "Epoch 53/75\n",
      "55000/55000 [==============================] - 4s 72us/sample - loss: 0.1564 - accuracy: 0.9446 - val_loss: 0.3072 - val_accuracy: 0.8976\n",
      "Epoch 54/75\n",
      "55000/55000 [==============================] - 4s 77us/sample - loss: 0.1528 - accuracy: 0.9462 - val_loss: 0.2905 - val_accuracy: 0.9012\n",
      "Epoch 55/75\n",
      "55000/55000 [==============================] - 4s 72us/sample - loss: 0.1508 - accuracy: 0.9474 - val_loss: 0.3060 - val_accuracy: 0.8966\n",
      "Epoch 56/75\n",
      "55000/55000 [==============================] - 4s 68us/sample - loss: 0.1488 - accuracy: 0.9473 - val_loss: 0.2890 - val_accuracy: 0.9046\n",
      "Epoch 57/75\n",
      "55000/55000 [==============================] - 4s 68us/sample - loss: 0.1459 - accuracy: 0.9481 - val_loss: 0.2941 - val_accuracy: 0.9006\n",
      "Epoch 58/75\n",
      "55000/55000 [==============================] - 4s 67us/sample - loss: 0.1431 - accuracy: 0.9501 - val_loss: 0.3015 - val_accuracy: 0.9020\n",
      "Epoch 59/75\n",
      "55000/55000 [==============================] - 4s 67us/sample - loss: 0.1414 - accuracy: 0.9503 - val_loss: 0.2975 - val_accuracy: 0.9008\n",
      "Epoch 60/75\n",
      "55000/55000 [==============================] - 4s 73us/sample - loss: 0.1389 - accuracy: 0.9506 - val_loss: 0.3014 - val_accuracy: 0.8986\n",
      "Epoch 61/75\n",
      "55000/55000 [==============================] - 4s 67us/sample - loss: 0.1366 - accuracy: 0.9524 - val_loss: 0.3028 - val_accuracy: 0.8992\n",
      "Epoch 62/75\n",
      "55000/55000 [==============================] - 4s 67us/sample - loss: 0.1341 - accuracy: 0.9528 - val_loss: 0.3000 - val_accuracy: 0.9034\n",
      "Epoch 63/75\n",
      "55000/55000 [==============================] - 4s 67us/sample - loss: 0.1309 - accuracy: 0.9552 - val_loss: 0.2948 - val_accuracy: 0.9018\n",
      "Epoch 64/75\n",
      "55000/55000 [==============================] - 4s 67us/sample - loss: 0.1303 - accuracy: 0.9541 - val_loss: 0.3458 - val_accuracy: 0.8848\n",
      "Epoch 65/75\n",
      "55000/55000 [==============================] - 4s 68us/sample - loss: 0.1273 - accuracy: 0.9550 - val_loss: 0.3059 - val_accuracy: 0.8988\n",
      "Epoch 66/75\n",
      "55000/55000 [==============================] - 4s 67us/sample - loss: 0.1271 - accuracy: 0.9550 - val_loss: 0.3170 - val_accuracy: 0.8980\n",
      "Epoch 67/75\n",
      "55000/55000 [==============================] - 4s 68us/sample - loss: 0.1242 - accuracy: 0.9564 - val_loss: 0.3027 - val_accuracy: 0.9020\n",
      "Epoch 68/75\n",
      "55000/55000 [==============================] - 4s 68us/sample - loss: 0.1214 - accuracy: 0.9585 - val_loss: 0.3318 - val_accuracy: 0.8912\n",
      "Epoch 69/75\n",
      "55000/55000 [==============================] - 4s 75us/sample - loss: 0.1199 - accuracy: 0.9586 - val_loss: 0.3030 - val_accuracy: 0.8996\n",
      "Epoch 70/75\n",
      "55000/55000 [==============================] - 4s 71us/sample - loss: 0.1174 - accuracy: 0.9595 - val_loss: 0.3020 - val_accuracy: 0.9018\n",
      "Epoch 71/75\n",
      "55000/55000 [==============================] - 4s 69us/sample - loss: 0.1158 - accuracy: 0.9596 - val_loss: 0.3137 - val_accuracy: 0.8980\n",
      "Epoch 72/75\n",
      "55000/55000 [==============================] - 4s 67us/sample - loss: 0.1156 - accuracy: 0.9593 - val_loss: 0.3150 - val_accuracy: 0.8988\n",
      "Epoch 73/75\n",
      "55000/55000 [==============================] - 4s 71us/sample - loss: 0.1122 - accuracy: 0.9612 - val_loss: 0.3382 - val_accuracy: 0.8930\n",
      "Epoch 74/75\n",
      "55000/55000 [==============================] - 4s 68us/sample - loss: 0.1112 - accuracy: 0.9617 - val_loss: 0.3260 - val_accuracy: 0.8966\n",
      "Epoch 75/75\n",
      "55000/55000 [==============================] - 4s 66us/sample - loss: 0.1095 - accuracy: 0.9619 - val_loss: 0.3286 - val_accuracy: 0.8946\n"
     ]
    }
   ],
   "source": [
    "model_history = model.fit(x_train, y_train, epochs = 75, validation_data = (x_valid, y_valid))"
   ]
  },
  {
   "cell_type": "code",
   "execution_count": 24,
   "metadata": {},
   "outputs": [
    {
     "data": {
      "text/plain": [
       "{'batch_size': 32,\n",
       " 'epochs': 75,\n",
       " 'steps': 1719,\n",
       " 'samples': 55000,\n",
       " 'verbose': 0,\n",
       " 'do_validation': True,\n",
       " 'metrics': ['loss', 'accuracy', 'val_loss', 'val_accuracy']}"
      ]
     },
     "execution_count": 24,
     "metadata": {},
     "output_type": "execute_result"
    }
   ],
   "source": [
    "model.history.params\n",
    "# It gives a dictionary"
   ]
  },
  {
   "cell_type": "code",
   "execution_count": 25,
   "metadata": {
    "scrolled": true
   },
   "outputs": [
    {
     "data": {
      "text/plain": [
       "{'loss': [0.722569646878676,\n",
       "  0.48439070263775913,\n",
       "  0.44139273505644366,\n",
       "  0.4129385054046458,\n",
       "  0.3926527421431108,\n",
       "  0.3771403594493866,\n",
       "  0.3627069265148856,\n",
       "  0.3518205312479626,\n",
       "  0.3420529502868652,\n",
       "  0.3326711104132912,\n",
       "  0.32407692904038865,\n",
       "  0.31601437797112897,\n",
       "  0.3073855296525088,\n",
       "  0.3018176826693795,\n",
       "  0.29529129893779754,\n",
       "  0.28982838484590706,\n",
       "  0.2833687421928753,\n",
       "  0.27829956267747014,\n",
       "  0.2728821515039964,\n",
       "  0.26814697365760803,\n",
       "  0.2633877638231624,\n",
       "  0.257503629638932,\n",
       "  0.2538207898248326,\n",
       "  0.24917920290448448,\n",
       "  0.2451915735764937,\n",
       "  0.24078982855623418,\n",
       "  0.2367717648690397,\n",
       "  0.23215883191715586,\n",
       "  0.22870411636287516,\n",
       "  0.2256430769551884,\n",
       "  0.2211449507507411,\n",
       "  0.21905284497846256,\n",
       "  0.2143549875963818,\n",
       "  0.2106711592284116,\n",
       "  0.20749313506971706,\n",
       "  0.2047128077864647,\n",
       "  0.20074264432516964,\n",
       "  0.1992803159193559,\n",
       "  0.19383234642202204,\n",
       "  0.19270723598084666,\n",
       "  0.18890735392137006,\n",
       "  0.18571870632496748,\n",
       "  0.18310914324467834,\n",
       "  0.17984695345163346,\n",
       "  0.17683746699148958,\n",
       "  0.17514909996336156,\n",
       "  0.17151983312856067,\n",
       "  0.1691301800088449,\n",
       "  0.16557767953764307,\n",
       "  0.16433556558435614,\n",
       "  0.15980712598833172,\n",
       "  0.15775016196532682,\n",
       "  0.15640086559490723,\n",
       "  0.15278788297393106,\n",
       "  0.1507710972601717,\n",
       "  0.14878158433762464,\n",
       "  0.1459011482609944,\n",
       "  0.14310572321198203,\n",
       "  0.1414346851015633,\n",
       "  0.13894360747337342,\n",
       "  0.13655277175307273,\n",
       "  0.13408369642387738,\n",
       "  0.1308786762551828,\n",
       "  0.1302878150029616,\n",
       "  0.12725884442058477,\n",
       "  0.12709092779078268,\n",
       "  0.12424412618225271,\n",
       "  0.12143912679553032,\n",
       "  0.11994693848436529,\n",
       "  0.11742197700467977,\n",
       "  0.11582242075421594,\n",
       "  0.11555118004788052,\n",
       "  0.11217283565104008,\n",
       "  0.11116991892050614,\n",
       "  0.10945169322003018],\n",
       " 'accuracy': [0.7641091,\n",
       "  0.8322545,\n",
       "  0.84632725,\n",
       "  0.85472727,\n",
       "  0.8617091,\n",
       "  0.86645454,\n",
       "  0.87292725,\n",
       "  0.87485456,\n",
       "  0.8771818,\n",
       "  0.8814909,\n",
       "  0.8836,\n",
       "  0.8868727,\n",
       "  0.88992727,\n",
       "  0.89230907,\n",
       "  0.89370906,\n",
       "  0.89632726,\n",
       "  0.8984909,\n",
       "  0.8998,\n",
       "  0.90147275,\n",
       "  0.9038909,\n",
       "  0.90416366,\n",
       "  0.90729094,\n",
       "  0.90892726,\n",
       "  0.91065454,\n",
       "  0.9130727,\n",
       "  0.91416365,\n",
       "  0.9150909,\n",
       "  0.9173273,\n",
       "  0.91876364,\n",
       "  0.9192909,\n",
       "  0.9213091,\n",
       "  0.92063636,\n",
       "  0.9215636,\n",
       "  0.92489094,\n",
       "  0.9261091,\n",
       "  0.9272182,\n",
       "  0.928,\n",
       "  0.9292727,\n",
       "  0.9313818,\n",
       "  0.93105453,\n",
       "  0.9323818,\n",
       "  0.9339091,\n",
       "  0.9348182,\n",
       "  0.9362182,\n",
       "  0.9383818,\n",
       "  0.9372,\n",
       "  0.9395818,\n",
       "  0.94045454,\n",
       "  0.9421273,\n",
       "  0.94094545,\n",
       "  0.94354546,\n",
       "  0.9445636,\n",
       "  0.9445818,\n",
       "  0.9462182,\n",
       "  0.9473818,\n",
       "  0.94725454,\n",
       "  0.94805455,\n",
       "  0.9500545,\n",
       "  0.9503091,\n",
       "  0.9506182,\n",
       "  0.9524364,\n",
       "  0.95283633,\n",
       "  0.9552364,\n",
       "  0.9540727,\n",
       "  0.95501816,\n",
       "  0.955,\n",
       "  0.9563636,\n",
       "  0.9585091,\n",
       "  0.9586,\n",
       "  0.9594727,\n",
       "  0.9595636,\n",
       "  0.9592909,\n",
       "  0.96116364,\n",
       "  0.96165454,\n",
       "  0.96189094],\n",
       " 'val_loss': [0.5073241529941559,\n",
       "  0.4538289334774017,\n",
       "  0.43781669671535495,\n",
       "  0.4163945297956467,\n",
       "  0.38090138936042783,\n",
       "  0.37276326060295106,\n",
       "  0.3702761582970619,\n",
       "  0.36591968093514443,\n",
       "  0.34408544517755507,\n",
       "  0.3508093020915985,\n",
       "  0.3368114340424538,\n",
       "  0.3312895697951317,\n",
       "  0.3332086863040924,\n",
       "  0.3239373813390732,\n",
       "  0.3166652224242687,\n",
       "  0.32465934114456174,\n",
       "  0.317274130654335,\n",
       "  0.30960044026374817,\n",
       "  0.31793771681189537,\n",
       "  0.321453701210022,\n",
       "  0.2992989700436592,\n",
       "  0.3098645966887474,\n",
       "  0.2998603296548128,\n",
       "  0.31092460777163505,\n",
       "  0.30707486269772055,\n",
       "  0.32574773408770563,\n",
       "  0.3133100535571575,\n",
       "  0.2934492079555988,\n",
       "  0.2989172969400883,\n",
       "  0.3030051669418812,\n",
       "  0.2952006691157818,\n",
       "  0.2934145113348961,\n",
       "  0.2875825285762548,\n",
       "  0.28348176043629647,\n",
       "  0.2929570777386427,\n",
       "  0.304082618701458,\n",
       "  0.29182604697048664,\n",
       "  0.29272832579612734,\n",
       "  0.31043357033133506,\n",
       "  0.2944363514706492,\n",
       "  0.302891089117527,\n",
       "  0.29135772801041604,\n",
       "  0.29547239085137844,\n",
       "  0.2945872714668512,\n",
       "  0.3020398818165064,\n",
       "  0.2883454826414585,\n",
       "  0.3118076163649559,\n",
       "  0.2866577300608158,\n",
       "  0.294772870528698,\n",
       "  0.28874838938117026,\n",
       "  0.29337264096140864,\n",
       "  0.3125203275561333,\n",
       "  0.3071957564532757,\n",
       "  0.2904729584723711,\n",
       "  0.3060016664981842,\n",
       "  0.28896912838220595,\n",
       "  0.2941193771213293,\n",
       "  0.30152886952757835,\n",
       "  0.29754393973350524,\n",
       "  0.30143087150752546,\n",
       "  0.30281079455018045,\n",
       "  0.3000141548514366,\n",
       "  0.294776949557662,\n",
       "  0.3457954212188721,\n",
       "  0.30590927840471266,\n",
       "  0.31698169224262235,\n",
       "  0.30266346868276595,\n",
       "  0.33177227104604246,\n",
       "  0.3029830619454384,\n",
       "  0.3019666783064604,\n",
       "  0.3136571806013584,\n",
       "  0.31495311761796474,\n",
       "  0.3382189586520195,\n",
       "  0.3259902614504099,\n",
       "  0.3285642906665802],\n",
       " 'val_accuracy': [0.832,\n",
       "  0.8488,\n",
       "  0.8498,\n",
       "  0.8556,\n",
       "  0.8652,\n",
       "  0.868,\n",
       "  0.8704,\n",
       "  0.8704,\n",
       "  0.8782,\n",
       "  0.8784,\n",
       "  0.8794,\n",
       "  0.8844,\n",
       "  0.882,\n",
       "  0.887,\n",
       "  0.8886,\n",
       "  0.8868,\n",
       "  0.8916,\n",
       "  0.8908,\n",
       "  0.8846,\n",
       "  0.8836,\n",
       "  0.8948,\n",
       "  0.8878,\n",
       "  0.8906,\n",
       "  0.8868,\n",
       "  0.8914,\n",
       "  0.8854,\n",
       "  0.8866,\n",
       "  0.8954,\n",
       "  0.8934,\n",
       "  0.8902,\n",
       "  0.8972,\n",
       "  0.8944,\n",
       "  0.8984,\n",
       "  0.8978,\n",
       "  0.8946,\n",
       "  0.8956,\n",
       "  0.8954,\n",
       "  0.8946,\n",
       "  0.8874,\n",
       "  0.8974,\n",
       "  0.8952,\n",
       "  0.8928,\n",
       "  0.8954,\n",
       "  0.8986,\n",
       "  0.8908,\n",
       "  0.9,\n",
       "  0.8938,\n",
       "  0.9006,\n",
       "  0.9012,\n",
       "  0.9014,\n",
       "  0.9004,\n",
       "  0.8942,\n",
       "  0.8976,\n",
       "  0.9012,\n",
       "  0.8966,\n",
       "  0.9046,\n",
       "  0.9006,\n",
       "  0.902,\n",
       "  0.9008,\n",
       "  0.8986,\n",
       "  0.8992,\n",
       "  0.9034,\n",
       "  0.9018,\n",
       "  0.8848,\n",
       "  0.8988,\n",
       "  0.898,\n",
       "  0.902,\n",
       "  0.8912,\n",
       "  0.8996,\n",
       "  0.9018,\n",
       "  0.898,\n",
       "  0.8988,\n",
       "  0.893,\n",
       "  0.8966,\n",
       "  0.8946]}"
      ]
     },
     "execution_count": 25,
     "metadata": {},
     "output_type": "execute_result"
    }
   ],
   "source": [
    "model_history.history\n",
    "# It gives a dictionary"
   ]
  },
  {
   "cell_type": "markdown",
   "metadata": {},
   "source": [
    "Now to see different aspect of the model"
   ]
  },
  {
   "cell_type": "code",
   "execution_count": 26,
   "metadata": {},
   "outputs": [
    {
     "data": {
      "image/png": "[encoded data removed]",
      "text/plain": [
       "<Figure size 576x360 with 1 Axes>"
      ]
     },
     "metadata": {
      "needs_background": "light"
     },
     "output_type": "display_data"
    }
   ],
   "source": [
    "pd.DataFrame(model_history.history).plot(figsize = (8, 5))\n",
    "plt.grid(True)\n",
    "plt.gca().set_ylim(0,1)\n",
    "plt.show()"
   ]
  },
  {
   "cell_type": "markdown",
   "metadata": {},
   "source": [
    "# Now we are going to evaluate performance and predict data for our model"
   ]
  },
  {
   "cell_type": "markdown",
   "metadata": {},
   "source": [
    "Now we will evaluate our model using \"evaluate()\" method on our model object "
   ]
  },
  {
   "cell_type": "code",
   "execution_count": 27,
   "metadata": {},
   "outputs": [
    {
     "name": "stdout",
     "output_type": "stream",
     "text": [
      "10000/10000 [==============================] - 0s 47us/sample - loss: 0.3753 - accuracy: 0.8824\n"
     ]
    },
    {
     "data": {
      "text/plain": [
       "[0.3752760881483555, 0.8824]"
      ]
     },
     "execution_count": 27,
     "metadata": {},
     "output_type": "execute_result"
    }
   ],
   "source": [
    "model.evaluate(x_testCase, y_test)"
   ]
  },
  {
   "cell_type": "markdown",
   "metadata": {},
   "source": [
    "Now we will predict value from the model"
   ]
  },
  {
   "cell_type": "code",
   "execution_count": 28,
   "metadata": {},
   "outputs": [],
   "source": [
    "# We have taken 3 data from \"test dataset\"\n",
    "x_new = x_test[:3]"
   ]
  },
  {
   "cell_type": "markdown",
   "metadata": {},
   "source": [
    "Here we predict two things\n",
    "* The probability of each class\n",
    "* The class itself"
   ]
  },
  {
   "cell_type": "code",
   "execution_count": 29,
   "metadata": {},
   "outputs": [
    {
     "data": {
      "text/plain": [
       "array([[0., 0., 0., 0., 0., 0., 0., 0., 0., 1.],\n",
       "       [0., 0., 1., 0., 0., 0., 0., 0., 0., 0.],\n",
       "       [0., 1., 0., 0., 0., 0., 0., 0., 0., 0.]], dtype=float32)"
      ]
     },
     "execution_count": 29,
     "metadata": {},
     "output_type": "execute_result"
    }
   ],
   "source": [
    "# Now predict the probability \n",
    "y_prob = model.predict(x_new)\n",
    "y_prob.round(2)"
   ]
  },
  {
   "cell_type": "code",
   "execution_count": 30,
   "metadata": {},
   "outputs": [
    {
     "data": {
      "text/plain": [
       "array([9, 2, 1], dtype=int64)"
      ]
     },
     "execution_count": 30,
     "metadata": {},
     "output_type": "execute_result"
    }
   ],
   "source": [
    "# Now predict the class ifself\n",
    "y_pred = model.predict_classes(x_new)\n",
    "y_pred"
   ]
  },
  {
   "cell_type": "code",
   "execution_count": 31,
   "metadata": {},
   "outputs": [
    {
     "data": {
      "text/plain": [
       "array(['Ankle Boot', 'Pullover', 'Trouser'], dtype='<U11')"
      ]
     },
     "execution_count": 31,
     "metadata": {},
     "output_type": "execute_result"
    }
   ],
   "source": [
    "np.array(class_names)[y_pred]"
   ]
  },
  {
   "cell_type": "code",
   "execution_count": 32,
   "metadata": {},
   "outputs": [
    {
     "data": {
      "text/plain": [
       "<matplotlib.image.AxesImage at 0x210054be108>"
      ]
     },
     "execution_count": 32,
     "metadata": {},
     "output_type": "execute_result"
    },
    {
     "data": {
      "image/png": "[encoded data removed]",
      "text/plain": [
       "<Figure size 432x288 with 1 Axes>"
      ]
     },
     "metadata": {
      "needs_background": "light"
     },
     "output_type": "display_data"
    }
   ],
   "source": [
    "plt.imshow(x_test[0])"
   ]
  },
  {
   "cell_type": "code",
   "execution_count": 33,
   "metadata": {},
   "outputs": [
    {
     "data": {
      "text/plain": [
       "<matplotlib.image.AxesImage at 0x20efda6f588>"
      ]
     },
     "execution_count": 33,
     "metadata": {},
     "output_type": "execute_result"
    },
    {
     "data": {
      "image/png": "[encoded data removed]",
      "text/plain": [
       "<Figure size 432x288 with 1 Axes>"
      ]
     },
     "metadata": {
      "needs_background": "light"
     },
     "output_type": "display_data"
    }
   ],
   "source": [
    "plt.imshow(x_test[1])"
   ]
  },
  {
   "cell_type": "code",
   "execution_count": 34,
   "metadata": {},
   "outputs": [
    {
     "data": {
      "text/plain": [
       "<matplotlib.image.AxesImage at 0x210054fe788>"
      ]
     },
     "execution_count": 34,
     "metadata": {},
     "output_type": "execute_result"
    },
    {
     "data": {
      "image/png": "[encoded data removed]",
      "text/plain": [
       "<Figure size 432x288 with 1 Axes>"
      ]
     },
     "metadata": {
      "needs_background": "light"
     },
     "output_type": "display_data"
    }
   ],
   "source": [
    "plt.imshow(x_test[2])"
   ]
  }
 ],
 "metadata": {
  "kernelspec": {
   "display_name": "tensorflow",
   "language": "python",
   "name": "tensorflow"
  },
  "language_info": {
   "codemirror_mode": {
    "name": "ipython",
    "version": 3
   },
   "file_extension": ".py",
   "mimetype": "text/x-python",
   "name": "python",
   "nbconvert_exporter": "python",
   "pygments_lexer": "ipython3",
   "version": "3.7.7"
  }
 },
 "nbformat": 4,
 "nbformat_minor": 4
}
