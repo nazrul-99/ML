{
 "cells": [
  {
   "cell_type": "code",
   "execution_count": 17,
   "metadata": {},
   "outputs": [],
   "source": [
    "import numpy as np\n",
    "import pandas as pd\n",
    "import seaborn as sns\n",
    "import matplotlib.pyplot as plt"
   ]
  },
  {
   "cell_type": "code",
   "execution_count": 18,
   "metadata": {},
   "outputs": [],
   "source": [
    "df = pd.read_json('Data\\prices_2019.json')"
   ]
  },
  {
   "cell_type": "code",
   "execution_count": 19,
   "metadata": {},
   "outputs": [
    {
     "name": "stdout",
     "output_type": "stream",
     "text": [
      "<class 'pandas.core.frame.DataFrame'>\n",
      "RangeIndex: 138291 entries, 0 to 138290\n",
      "Data columns (total 11 columns):\n",
      " #   Column                    Non-Null Count   Dtype         \n",
      "---  ------                    --------------   -----         \n",
      " 0   date                      138291 non-null  datetime64[ns]\n",
      " 1   trading_code              138291 non-null  object        \n",
      " 2   last_traded_price         138291 non-null  float64       \n",
      " 3   high                      138291 non-null  float64       \n",
      " 4   low                       138291 non-null  float64       \n",
      " 5   opening_price             138291 non-null  float64       \n",
      " 6   closing_price             138291 non-null  float64       \n",
      " 7   yesterdays_closing_price  138291 non-null  float64       \n",
      " 8   trade                     138291 non-null  int64         \n",
      " 9   value_mn                  138291 non-null  float64       \n",
      " 10  volume                    138291 non-null  int64         \n",
      "dtypes: datetime64[ns](1), float64(7), int64(2), object(1)\n",
      "memory usage: 11.6+ MB\n"
     ]
    },
    {
     "data": {
      "text/html": [
       "<div>\n",
       "<style scoped>\n",
       "    .dataframe tbody tr th:only-of-type {\n",
       "        vertical-align: middle;\n",
       "    }\n",
       "\n",
       "    .dataframe tbody tr th {\n",
       "        vertical-align: top;\n",
       "    }\n",
       "\n",
       "    .dataframe thead th {\n",
       "        text-align: right;\n",
       "    }\n",
       "</style>\n",
       "<table border=\"1\" class=\"dataframe\">\n",
       "  <thead>\n",
       "    <tr style=\"text-align: right;\">\n",
       "      <th></th>\n",
       "      <th>date</th>\n",
       "      <th>trading_code</th>\n",
       "      <th>last_traded_price</th>\n",
       "      <th>high</th>\n",
       "      <th>low</th>\n",
       "      <th>opening_price</th>\n",
       "      <th>closing_price</th>\n",
       "      <th>yesterdays_closing_price</th>\n",
       "      <th>trade</th>\n",
       "      <th>value_mn</th>\n",
       "      <th>volume</th>\n",
       "    </tr>\n",
       "  </thead>\n",
       "  <tbody>\n",
       "    <tr>\n",
       "      <th>0</th>\n",
       "      <td>2019-12-30</td>\n",
       "      <td>1JANATAMF</td>\n",
       "      <td>4.3</td>\n",
       "      <td>4.3</td>\n",
       "      <td>4.2</td>\n",
       "      <td>4.2</td>\n",
       "      <td>4.3</td>\n",
       "      <td>4.2</td>\n",
       "      <td>29</td>\n",
       "      <td>0.898</td>\n",
       "      <td>208957</td>\n",
       "    </tr>\n",
       "    <tr>\n",
       "      <th>1</th>\n",
       "      <td>2019-12-29</td>\n",
       "      <td>1JANATAMF</td>\n",
       "      <td>4.2</td>\n",
       "      <td>4.3</td>\n",
       "      <td>4.2</td>\n",
       "      <td>4.2</td>\n",
       "      <td>4.2</td>\n",
       "      <td>4.3</td>\n",
       "      <td>33</td>\n",
       "      <td>1.215</td>\n",
       "      <td>289149</td>\n",
       "    </tr>\n",
       "    <tr>\n",
       "      <th>2</th>\n",
       "      <td>2019-12-26</td>\n",
       "      <td>1JANATAMF</td>\n",
       "      <td>4.3</td>\n",
       "      <td>4.3</td>\n",
       "      <td>4.2</td>\n",
       "      <td>4.2</td>\n",
       "      <td>4.3</td>\n",
       "      <td>4.2</td>\n",
       "      <td>13</td>\n",
       "      <td>0.172</td>\n",
       "      <td>40362</td>\n",
       "    </tr>\n",
       "    <tr>\n",
       "      <th>3</th>\n",
       "      <td>2019-12-24</td>\n",
       "      <td>1JANATAMF</td>\n",
       "      <td>4.2</td>\n",
       "      <td>4.3</td>\n",
       "      <td>4.2</td>\n",
       "      <td>4.2</td>\n",
       "      <td>4.2</td>\n",
       "      <td>4.2</td>\n",
       "      <td>34</td>\n",
       "      <td>0.839</td>\n",
       "      <td>199583</td>\n",
       "    </tr>\n",
       "    <tr>\n",
       "      <th>4</th>\n",
       "      <td>2019-12-23</td>\n",
       "      <td>1JANATAMF</td>\n",
       "      <td>4.3</td>\n",
       "      <td>4.3</td>\n",
       "      <td>4.2</td>\n",
       "      <td>4.2</td>\n",
       "      <td>4.2</td>\n",
       "      <td>4.2</td>\n",
       "      <td>34</td>\n",
       "      <td>0.969</td>\n",
       "      <td>230775</td>\n",
       "    </tr>\n",
       "  </tbody>\n",
       "</table>\n",
       "</div>"
      ],
      "text/plain": [
       "        date trading_code  last_traded_price  high  low  opening_price  \\\n",
       "0 2019-12-30    1JANATAMF                4.3   4.3  4.2            4.2   \n",
       "1 2019-12-29    1JANATAMF                4.2   4.3  4.2            4.2   \n",
       "2 2019-12-26    1JANATAMF                4.3   4.3  4.2            4.2   \n",
       "3 2019-12-24    1JANATAMF                4.2   4.3  4.2            4.2   \n",
       "4 2019-12-23    1JANATAMF                4.3   4.3  4.2            4.2   \n",
       "\n",
       "   closing_price  yesterdays_closing_price  trade  value_mn  volume  \n",
       "0            4.3                       4.2     29     0.898  208957  \n",
       "1            4.2                       4.3     33     1.215  289149  \n",
       "2            4.3                       4.2     13     0.172   40362  \n",
       "3            4.2                       4.2     34     0.839  199583  \n",
       "4            4.2                       4.2     34     0.969  230775  "
      ]
     },
     "execution_count": 19,
     "metadata": {},
     "output_type": "execute_result"
    }
   ],
   "source": [
    "df.info()\n",
    "df.head()"
   ]
  },
  {
   "cell_type": "code",
   "execution_count": 20,
   "metadata": {},
   "outputs": [],
   "source": [
    "df = df.set_index('date')"
   ]
  },
  {
   "cell_type": "code",
   "execution_count": 21,
   "metadata": {},
   "outputs": [
    {
     "name": "stdout",
     "output_type": "stream",
     "text": [
      "<class 'pandas.core.frame.DataFrame'>\n",
      "DatetimeIndex: 138291 entries, 2019-12-30 to 2019-01-01\n",
      "Data columns (total 9 columns):\n",
      " #   Column                    Non-Null Count   Dtype  \n",
      "---  ------                    --------------   -----  \n",
      " 0   last_traded_price         138291 non-null  float64\n",
      " 1   high                      138291 non-null  float64\n",
      " 2   low                       138291 non-null  float64\n",
      " 3   opening_price             138291 non-null  float64\n",
      " 4   closing_price             138291 non-null  float64\n",
      " 5   yesterdays_closing_price  138291 non-null  float64\n",
      " 6   trade                     138291 non-null  int64  \n",
      " 7   value_mn                  138291 non-null  float64\n",
      " 8   volume                    138291 non-null  int64  \n",
      "dtypes: float64(7), int64(2)\n",
      "memory usage: 10.6 MB\n"
     ]
    },
    {
     "data": {
      "text/html": [
       "<div>\n",
       "<style scoped>\n",
       "    .dataframe tbody tr th:only-of-type {\n",
       "        vertical-align: middle;\n",
       "    }\n",
       "\n",
       "    .dataframe tbody tr th {\n",
       "        vertical-align: top;\n",
       "    }\n",
       "\n",
       "    .dataframe thead th {\n",
       "        text-align: right;\n",
       "    }\n",
       "</style>\n",
       "<table border=\"1\" class=\"dataframe\">\n",
       "  <thead>\n",
       "    <tr style=\"text-align: right;\">\n",
       "      <th></th>\n",
       "      <th>last_traded_price</th>\n",
       "      <th>high</th>\n",
       "      <th>low</th>\n",
       "      <th>opening_price</th>\n",
       "      <th>closing_price</th>\n",
       "      <th>yesterdays_closing_price</th>\n",
       "      <th>trade</th>\n",
       "      <th>value_mn</th>\n",
       "      <th>volume</th>\n",
       "    </tr>\n",
       "    <tr>\n",
       "      <th>date</th>\n",
       "      <th></th>\n",
       "      <th></th>\n",
       "      <th></th>\n",
       "      <th></th>\n",
       "      <th></th>\n",
       "      <th></th>\n",
       "      <th></th>\n",
       "      <th></th>\n",
       "      <th></th>\n",
       "    </tr>\n",
       "  </thead>\n",
       "  <tbody>\n",
       "    <tr>\n",
       "      <th>2019-12-30</th>\n",
       "      <td>4.3</td>\n",
       "      <td>4.3</td>\n",
       "      <td>4.2</td>\n",
       "      <td>4.2</td>\n",
       "      <td>4.3</td>\n",
       "      <td>4.2</td>\n",
       "      <td>29</td>\n",
       "      <td>0.898</td>\n",
       "      <td>208957</td>\n",
       "    </tr>\n",
       "    <tr>\n",
       "      <th>2019-12-29</th>\n",
       "      <td>4.2</td>\n",
       "      <td>4.3</td>\n",
       "      <td>4.2</td>\n",
       "      <td>4.2</td>\n",
       "      <td>4.2</td>\n",
       "      <td>4.3</td>\n",
       "      <td>33</td>\n",
       "      <td>1.215</td>\n",
       "      <td>289149</td>\n",
       "    </tr>\n",
       "    <tr>\n",
       "      <th>2019-12-26</th>\n",
       "      <td>4.3</td>\n",
       "      <td>4.3</td>\n",
       "      <td>4.2</td>\n",
       "      <td>4.2</td>\n",
       "      <td>4.3</td>\n",
       "      <td>4.2</td>\n",
       "      <td>13</td>\n",
       "      <td>0.172</td>\n",
       "      <td>40362</td>\n",
       "    </tr>\n",
       "    <tr>\n",
       "      <th>2019-12-24</th>\n",
       "      <td>4.2</td>\n",
       "      <td>4.3</td>\n",
       "      <td>4.2</td>\n",
       "      <td>4.2</td>\n",
       "      <td>4.2</td>\n",
       "      <td>4.2</td>\n",
       "      <td>34</td>\n",
       "      <td>0.839</td>\n",
       "      <td>199583</td>\n",
       "    </tr>\n",
       "    <tr>\n",
       "      <th>2019-12-23</th>\n",
       "      <td>4.3</td>\n",
       "      <td>4.3</td>\n",
       "      <td>4.2</td>\n",
       "      <td>4.2</td>\n",
       "      <td>4.2</td>\n",
       "      <td>4.2</td>\n",
       "      <td>34</td>\n",
       "      <td>0.969</td>\n",
       "      <td>230775</td>\n",
       "    </tr>\n",
       "  </tbody>\n",
       "</table>\n",
       "</div>"
      ],
      "text/plain": [
       "            last_traded_price  high  low  opening_price  closing_price  \\\n",
       "date                                                                     \n",
       "2019-12-30                4.3   4.3  4.2            4.2            4.3   \n",
       "2019-12-29                4.2   4.3  4.2            4.2            4.2   \n",
       "2019-12-26                4.3   4.3  4.2            4.2            4.3   \n",
       "2019-12-24                4.2   4.3  4.2            4.2            4.2   \n",
       "2019-12-23                4.3   4.3  4.2            4.2            4.2   \n",
       "\n",
       "            yesterdays_closing_price  trade  value_mn  volume  \n",
       "date                                                           \n",
       "2019-12-30                       4.2     29     0.898  208957  \n",
       "2019-12-29                       4.3     33     1.215  289149  \n",
       "2019-12-26                       4.2     13     0.172   40362  \n",
       "2019-12-24                       4.2     34     0.839  199583  \n",
       "2019-12-23                       4.2     34     0.969  230775  "
      ]
     },
     "execution_count": 21,
     "metadata": {},
     "output_type": "execute_result"
    }
   ],
   "source": [
    "df=df.drop('trading_code',axis=1) \n",
    "df.info()\n",
    "df.head()"
   ]
  },
  {
   "cell_type": "code",
   "execution_count": 22,
   "metadata": {},
   "outputs": [],
   "source": [
    "df['trade'] = df['trade'].astype(float)\n",
    "df['volume'] = df['volume'].astype(float)"
   ]
  },
  {
   "cell_type": "code",
   "execution_count": 23,
   "metadata": {},
   "outputs": [
    {
     "name": "stdout",
     "output_type": "stream",
     "text": [
      "<class 'pandas.core.frame.DataFrame'>\n",
      "DatetimeIndex: 138291 entries, 2019-12-30 to 2019-01-01\n",
      "Data columns (total 9 columns):\n",
      " #   Column                    Non-Null Count   Dtype  \n",
      "---  ------                    --------------   -----  \n",
      " 0   last_traded_price         138291 non-null  float64\n",
      " 1   high                      138291 non-null  float64\n",
      " 2   low                       138291 non-null  float64\n",
      " 3   opening_price             138291 non-null  float64\n",
      " 4   closing_price             138291 non-null  float64\n",
      " 5   yesterdays_closing_price  138291 non-null  float64\n",
      " 6   trade                     138291 non-null  float64\n",
      " 7   value_mn                  138291 non-null  float64\n",
      " 8   volume                    138291 non-null  float64\n",
      "dtypes: float64(9)\n",
      "memory usage: 10.6 MB\n"
     ]
    },
    {
     "data": {
      "text/plain": [
       "(138291, 9)"
      ]
     },
     "execution_count": 23,
     "metadata": {},
     "output_type": "execute_result"
    }
   ],
   "source": [
    "df.info()\n",
    "df.shape"
   ]
  },
  {
   "cell_type": "code",
   "execution_count": 24,
   "metadata": {},
   "outputs": [
    {
     "data": {
      "text/html": [
       "<div>\n",
       "<style scoped>\n",
       "    .dataframe tbody tr th:only-of-type {\n",
       "        vertical-align: middle;\n",
       "    }\n",
       "\n",
       "    .dataframe tbody tr th {\n",
       "        vertical-align: top;\n",
       "    }\n",
       "\n",
       "    .dataframe thead th {\n",
       "        text-align: right;\n",
       "    }\n",
       "</style>\n",
       "<table border=\"1\" class=\"dataframe\">\n",
       "  <thead>\n",
       "    <tr style=\"text-align: right;\">\n",
       "      <th></th>\n",
       "      <th>last_traded_price</th>\n",
       "      <th>high</th>\n",
       "      <th>low</th>\n",
       "      <th>opening_price</th>\n",
       "      <th>closing_price</th>\n",
       "      <th>yesterdays_closing_price</th>\n",
       "      <th>trade</th>\n",
       "      <th>value_mn</th>\n",
       "      <th>volume</th>\n",
       "    </tr>\n",
       "  </thead>\n",
       "  <tbody>\n",
       "    <tr>\n",
       "      <th>count</th>\n",
       "      <td>138291.000000</td>\n",
       "      <td>138291.000000</td>\n",
       "      <td>138291.000000</td>\n",
       "      <td>138291.000000</td>\n",
       "      <td>138291.000000</td>\n",
       "      <td>138291.000000</td>\n",
       "      <td>138291.000000</td>\n",
       "      <td>138291.000000</td>\n",
       "      <td>1.382910e+05</td>\n",
       "    </tr>\n",
       "    <tr>\n",
       "      <th>mean</th>\n",
       "      <td>68.831941</td>\n",
       "      <td>70.121108</td>\n",
       "      <td>67.830955</td>\n",
       "      <td>69.047413</td>\n",
       "      <td>85.109301</td>\n",
       "      <td>37951.937793</td>\n",
       "      <td>216.472301</td>\n",
       "      <td>7.950239</td>\n",
       "      <td>2.300336e+05</td>\n",
       "    </tr>\n",
       "    <tr>\n",
       "      <th>std</th>\n",
       "      <td>239.676567</td>\n",
       "      <td>243.765304</td>\n",
       "      <td>236.506251</td>\n",
       "      <td>240.258988</td>\n",
       "      <td>275.108654</td>\n",
       "      <td>48432.333199</td>\n",
       "      <td>484.933582</td>\n",
       "      <td>24.232747</td>\n",
       "      <td>6.585386e+05</td>\n",
       "    </tr>\n",
       "    <tr>\n",
       "      <th>min</th>\n",
       "      <td>0.000000</td>\n",
       "      <td>0.000000</td>\n",
       "      <td>0.000000</td>\n",
       "      <td>0.000000</td>\n",
       "      <td>0.000000</td>\n",
       "      <td>0.000000</td>\n",
       "      <td>0.000000</td>\n",
       "      <td>0.000000</td>\n",
       "      <td>0.000000e+00</td>\n",
       "    </tr>\n",
       "    <tr>\n",
       "      <th>25%</th>\n",
       "      <td>0.000000</td>\n",
       "      <td>0.000000</td>\n",
       "      <td>0.000000</td>\n",
       "      <td>0.000000</td>\n",
       "      <td>0.000000</td>\n",
       "      <td>21.900000</td>\n",
       "      <td>0.000000</td>\n",
       "      <td>0.000000</td>\n",
       "      <td>0.000000e+00</td>\n",
       "    </tr>\n",
       "    <tr>\n",
       "      <th>50%</th>\n",
       "      <td>9.300000</td>\n",
       "      <td>9.500000</td>\n",
       "      <td>9.100000</td>\n",
       "      <td>9.300000</td>\n",
       "      <td>10.500000</td>\n",
       "      <td>106.500000</td>\n",
       "      <td>44.000000</td>\n",
       "      <td>0.576000</td>\n",
       "      <td>1.500000e+04</td>\n",
       "    </tr>\n",
       "    <tr>\n",
       "      <th>75%</th>\n",
       "      <td>34.400000</td>\n",
       "      <td>35.000000</td>\n",
       "      <td>33.800000</td>\n",
       "      <td>34.500000</td>\n",
       "      <td>37.000000</td>\n",
       "      <td>100000.000000</td>\n",
       "      <td>225.000000</td>\n",
       "      <td>5.792500</td>\n",
       "      <td>1.876590e+05</td>\n",
       "    </tr>\n",
       "    <tr>\n",
       "      <th>max</th>\n",
       "      <td>4899.900000</td>\n",
       "      <td>5500.000000</td>\n",
       "      <td>4819.000000</td>\n",
       "      <td>5100.000000</td>\n",
       "      <td>4904.200000</td>\n",
       "      <td>100000.000000</td>\n",
       "      <td>30556.000000</td>\n",
       "      <td>908.177000</td>\n",
       "      <td>3.796053e+07</td>\n",
       "    </tr>\n",
       "  </tbody>\n",
       "</table>\n",
       "</div>"
      ],
      "text/plain": [
       "       last_traded_price           high            low  opening_price  \\\n",
       "count      138291.000000  138291.000000  138291.000000  138291.000000   \n",
       "mean           68.831941      70.121108      67.830955      69.047413   \n",
       "std           239.676567     243.765304     236.506251     240.258988   \n",
       "min             0.000000       0.000000       0.000000       0.000000   \n",
       "25%             0.000000       0.000000       0.000000       0.000000   \n",
       "50%             9.300000       9.500000       9.100000       9.300000   \n",
       "75%            34.400000      35.000000      33.800000      34.500000   \n",
       "max          4899.900000    5500.000000    4819.000000    5100.000000   \n",
       "\n",
       "       closing_price  yesterdays_closing_price          trade       value_mn  \\\n",
       "count  138291.000000             138291.000000  138291.000000  138291.000000   \n",
       "mean       85.109301              37951.937793     216.472301       7.950239   \n",
       "std       275.108654              48432.333199     484.933582      24.232747   \n",
       "min         0.000000                  0.000000       0.000000       0.000000   \n",
       "25%         0.000000                 21.900000       0.000000       0.000000   \n",
       "50%        10.500000                106.500000      44.000000       0.576000   \n",
       "75%        37.000000             100000.000000     225.000000       5.792500   \n",
       "max      4904.200000             100000.000000   30556.000000     908.177000   \n",
       "\n",
       "             volume  \n",
       "count  1.382910e+05  \n",
       "mean   2.300336e+05  \n",
       "std    6.585386e+05  \n",
       "min    0.000000e+00  \n",
       "25%    0.000000e+00  \n",
       "50%    1.500000e+04  \n",
       "75%    1.876590e+05  \n",
       "max    3.796053e+07  "
      ]
     },
     "execution_count": 24,
     "metadata": {},
     "output_type": "execute_result"
    }
   ],
   "source": [
    "df.describe()"
   ]
  },
  {
   "cell_type": "code",
   "execution_count": 25,
   "metadata": {
    "scrolled": true
   },
   "outputs": [
    {
     "data": {
      "text/plain": [
       "<seaborn.axisgrid.JointGrid at 0x21a80c74388>"
      ]
     },
     "execution_count": 25,
     "metadata": {},
     "output_type": "execute_result"
    },
    {
     "data": {
      "image/png": "[encoded data removed]",
      "text/plain": [
       "<Figure size 432x432 with 3 Axes>"
      ]
     },
     "metadata": {
      "needs_background": "light"
     },
     "output_type": "display_data"
    }
   ],
   "source": [
    "sns.jointplot(x = \"last_traded_price\", y = \"closing_price\", data = df)"
   ]
  },
  {
   "cell_type": "code",
   "execution_count": 26,
   "metadata": {},
   "outputs": [
    {
     "data": {
      "text/plain": [
       "<seaborn.axisgrid.JointGrid at 0x21a81fc00c8>"
      ]
     },
     "execution_count": 26,
     "metadata": {},
     "output_type": "execute_result"
    },
    {
     "data": {
      "image/png": "[encoded data removed]",
      "text/plain": [
       "<Figure size 432x432 with 3 Axes>"
      ]
     },
     "metadata": {
      "needs_background": "light"
     },
     "output_type": "display_data"
    }
   ],
   "source": [
    "sns.jointplot(x = \"opening_price\", y = \"closing_price\", data = df)"
   ]
  },
  {
   "cell_type": "code",
   "execution_count": 27,
   "metadata": {
    "scrolled": false
   },
   "outputs": [
    {
     "data": {
      "text/plain": [
       "<seaborn.axisgrid.JointGrid at 0x21a84a58448>"
      ]
     },
     "execution_count": 27,
     "metadata": {},
     "output_type": "execute_result"
    },
    {
     "data": {
      "image/png": "[encoded data removed]",
      "text/plain": [
       "<Figure size 432x432 with 3 Axes>"
      ]
     },
     "metadata": {
      "needs_background": "light"
     },
     "output_type": "display_data"
    }
   ],
   "source": [
    "sns.jointplot(x = \"yesterdays_closing_price\", y = \"closing_price\", data = df)"
   ]
  },
  {
   "cell_type": "code",
   "execution_count": 28,
   "metadata": {},
   "outputs": [],
   "source": [
    "correlationFrame = df.corr()"
   ]
  },
  {
   "cell_type": "code",
   "execution_count": 29,
   "metadata": {},
   "outputs": [
    {
     "data": {
      "text/html": [
       "<div>\n",
       "<style scoped>\n",
       "    .dataframe tbody tr th:only-of-type {\n",
       "        vertical-align: middle;\n",
       "    }\n",
       "\n",
       "    .dataframe tbody tr th {\n",
       "        vertical-align: top;\n",
       "    }\n",
       "\n",
       "    .dataframe thead th {\n",
       "        text-align: right;\n",
       "    }\n",
       "</style>\n",
       "<table border=\"1\" class=\"dataframe\">\n",
       "  <thead>\n",
       "    <tr style=\"text-align: right;\">\n",
       "      <th></th>\n",
       "      <th>last_traded_price</th>\n",
       "      <th>high</th>\n",
       "      <th>low</th>\n",
       "      <th>opening_price</th>\n",
       "      <th>closing_price</th>\n",
       "      <th>yesterdays_closing_price</th>\n",
       "      <th>trade</th>\n",
       "      <th>value_mn</th>\n",
       "      <th>volume</th>\n",
       "    </tr>\n",
       "  </thead>\n",
       "  <tbody>\n",
       "    <tr>\n",
       "      <th>last_traded_price</th>\n",
       "      <td>1.000000</td>\n",
       "      <td>0.999780</td>\n",
       "      <td>0.999722</td>\n",
       "      <td>0.999543</td>\n",
       "      <td>0.853467</td>\n",
       "      <td>-0.219692</td>\n",
       "      <td>0.250126</td>\n",
       "      <td>0.173215</td>\n",
       "      <td>-0.049993</td>\n",
       "    </tr>\n",
       "    <tr>\n",
       "      <th>high</th>\n",
       "      <td>0.999780</td>\n",
       "      <td>1.000000</td>\n",
       "      <td>0.999583</td>\n",
       "      <td>0.999715</td>\n",
       "      <td>0.853290</td>\n",
       "      <td>-0.220060</td>\n",
       "      <td>0.253382</td>\n",
       "      <td>0.175349</td>\n",
       "      <td>-0.049779</td>\n",
       "    </tr>\n",
       "    <tr>\n",
       "      <th>low</th>\n",
       "      <td>0.999722</td>\n",
       "      <td>0.999583</td>\n",
       "      <td>1.000000</td>\n",
       "      <td>0.999806</td>\n",
       "      <td>0.853295</td>\n",
       "      <td>-0.219392</td>\n",
       "      <td>0.247770</td>\n",
       "      <td>0.171350</td>\n",
       "      <td>-0.050376</td>\n",
       "    </tr>\n",
       "    <tr>\n",
       "      <th>opening_price</th>\n",
       "      <td>0.999543</td>\n",
       "      <td>0.999715</td>\n",
       "      <td>0.999806</td>\n",
       "      <td>1.000000</td>\n",
       "      <td>0.853108</td>\n",
       "      <td>-0.219848</td>\n",
       "      <td>0.250867</td>\n",
       "      <td>0.173288</td>\n",
       "      <td>-0.050206</td>\n",
       "    </tr>\n",
       "    <tr>\n",
       "      <th>closing_price</th>\n",
       "      <td>0.853467</td>\n",
       "      <td>0.853290</td>\n",
       "      <td>0.853295</td>\n",
       "      <td>0.853108</td>\n",
       "      <td>1.000000</td>\n",
       "      <td>-0.236200</td>\n",
       "      <td>0.191282</td>\n",
       "      <td>0.131377</td>\n",
       "      <td>-0.064254</td>\n",
       "    </tr>\n",
       "    <tr>\n",
       "      <th>yesterdays_closing_price</th>\n",
       "      <td>-0.219692</td>\n",
       "      <td>-0.220060</td>\n",
       "      <td>-0.219392</td>\n",
       "      <td>-0.219848</td>\n",
       "      <td>-0.236200</td>\n",
       "      <td>1.000000</td>\n",
       "      <td>-0.347934</td>\n",
       "      <td>-0.255771</td>\n",
       "      <td>-0.273476</td>\n",
       "    </tr>\n",
       "    <tr>\n",
       "      <th>trade</th>\n",
       "      <td>0.250126</td>\n",
       "      <td>0.253382</td>\n",
       "      <td>0.247770</td>\n",
       "      <td>0.250867</td>\n",
       "      <td>0.191282</td>\n",
       "      <td>-0.347934</td>\n",
       "      <td>1.000000</td>\n",
       "      <td>0.816625</td>\n",
       "      <td>0.533105</td>\n",
       "    </tr>\n",
       "    <tr>\n",
       "      <th>value_mn</th>\n",
       "      <td>0.173215</td>\n",
       "      <td>0.175349</td>\n",
       "      <td>0.171350</td>\n",
       "      <td>0.173288</td>\n",
       "      <td>0.131377</td>\n",
       "      <td>-0.255771</td>\n",
       "      <td>0.816625</td>\n",
       "      <td>1.000000</td>\n",
       "      <td>0.606151</td>\n",
       "    </tr>\n",
       "    <tr>\n",
       "      <th>volume</th>\n",
       "      <td>-0.049993</td>\n",
       "      <td>-0.049779</td>\n",
       "      <td>-0.050376</td>\n",
       "      <td>-0.050206</td>\n",
       "      <td>-0.064254</td>\n",
       "      <td>-0.273476</td>\n",
       "      <td>0.533105</td>\n",
       "      <td>0.606151</td>\n",
       "      <td>1.000000</td>\n",
       "    </tr>\n",
       "  </tbody>\n",
       "</table>\n",
       "</div>"
      ],
      "text/plain": [
       "                          last_traded_price      high       low  \\\n",
       "last_traded_price                  1.000000  0.999780  0.999722   \n",
       "high                               0.999780  1.000000  0.999583   \n",
       "low                                0.999722  0.999583  1.000000   \n",
       "opening_price                      0.999543  0.999715  0.999806   \n",
       "closing_price                      0.853467  0.853290  0.853295   \n",
       "yesterdays_closing_price          -0.219692 -0.220060 -0.219392   \n",
       "trade                              0.250126  0.253382  0.247770   \n",
       "value_mn                           0.173215  0.175349  0.171350   \n",
       "volume                            -0.049993 -0.049779 -0.050376   \n",
       "\n",
       "                          opening_price  closing_price  \\\n",
       "last_traded_price              0.999543       0.853467   \n",
       "high                           0.999715       0.853290   \n",
       "low                            0.999806       0.853295   \n",
       "opening_price                  1.000000       0.853108   \n",
       "closing_price                  0.853108       1.000000   \n",
       "yesterdays_closing_price      -0.219848      -0.236200   \n",
       "trade                          0.250867       0.191282   \n",
       "value_mn                       0.173288       0.131377   \n",
       "volume                        -0.050206      -0.064254   \n",
       "\n",
       "                          yesterdays_closing_price     trade  value_mn  \\\n",
       "last_traded_price                        -0.219692  0.250126  0.173215   \n",
       "high                                     -0.220060  0.253382  0.175349   \n",
       "low                                      -0.219392  0.247770  0.171350   \n",
       "opening_price                            -0.219848  0.250867  0.173288   \n",
       "closing_price                            -0.236200  0.191282  0.131377   \n",
       "yesterdays_closing_price                  1.000000 -0.347934 -0.255771   \n",
       "trade                                    -0.347934  1.000000  0.816625   \n",
       "value_mn                                 -0.255771  0.816625  1.000000   \n",
       "volume                                   -0.273476  0.533105  0.606151   \n",
       "\n",
       "                            volume  \n",
       "last_traded_price        -0.049993  \n",
       "high                     -0.049779  \n",
       "low                      -0.050376  \n",
       "opening_price            -0.050206  \n",
       "closing_price            -0.064254  \n",
       "yesterdays_closing_price -0.273476  \n",
       "trade                     0.533105  \n",
       "value_mn                  0.606151  \n",
       "volume                    1.000000  "
      ]
     },
     "execution_count": 29,
     "metadata": {},
     "output_type": "execute_result"
    }
   ],
   "source": [
    "correlationFrame"
   ]
  },
  {
   "cell_type": "code",
   "execution_count": 30,
   "metadata": {},
   "outputs": [
    {
     "data": {
      "text/plain": [
       "value_mn                  trade                       0.816625\n",
       "trade                     value_mn                    0.816625\n",
       "closing_price             opening_price               0.853108\n",
       "opening_price             closing_price               0.853108\n",
       "closing_price             high                        0.853290\n",
       "high                      closing_price               0.853290\n",
       "low                       closing_price               0.853295\n",
       "closing_price             low                         0.853295\n",
       "                          last_traded_price           0.853467\n",
       "last_traded_price         closing_price               0.853467\n",
       "opening_price             last_traded_price           0.999543\n",
       "last_traded_price         opening_price               0.999543\n",
       "low                       high                        0.999583\n",
       "high                      low                         0.999583\n",
       "opening_price             high                        0.999715\n",
       "high                      opening_price               0.999715\n",
       "low                       last_traded_price           0.999722\n",
       "last_traded_price         low                         0.999722\n",
       "high                      last_traded_price           0.999780\n",
       "last_traded_price         high                        0.999780\n",
       "low                       opening_price               0.999806\n",
       "opening_price             low                         0.999806\n",
       "last_traded_price         last_traded_price           1.000000\n",
       "closing_price             closing_price               1.000000\n",
       "trade                     trade                       1.000000\n",
       "yesterdays_closing_price  yesterdays_closing_price    1.000000\n",
       "opening_price             opening_price               1.000000\n",
       "low                       low                         1.000000\n",
       "high                      high                        1.000000\n",
       "value_mn                  value_mn                    1.000000\n",
       "volume                    volume                      1.000000\n",
       "dtype: float64"
      ]
     },
     "execution_count": 30,
     "metadata": {},
     "output_type": "execute_result"
    }
   ],
   "source": [
    "corr_pairs = correlationFrame.unstack()\n",
    "sorted_pairs = corr_pairs.sort_values(kind=\"quicksort\")\n",
    "strong_pairs = sorted_pairs[abs(sorted_pairs) > 0.8]\n",
    "strong_pairs"
   ]
  },
  {
   "cell_type": "code",
   "execution_count": 43,
   "metadata": {
    "scrolled": true
   },
   "outputs": [
    {
     "data": {
      "image/png": "[encoded data removed]",
      "text/plain": [
       "<Figure size 432x288 with 2 Axes>"
      ]
     },
     "metadata": {
      "needs_background": "light"
     },
     "output_type": "display_data"
    }
   ],
   "source": [
    "sns.heatmap(correlationFrame, annot = True, vmin=-1, vmax=1, center= 0, cmap= 'coolwarm')\n",
    "plt.title(\"Correlation matrix of DSE\")\n",
    "plt.show()"
   ]
  },
  {
   "cell_type": "code",
   "execution_count": 32,
   "metadata": {},
   "outputs": [
    {
     "data": {
      "text/html": [
       "<style  type=\"text/css\" >\n",
       "#T_a8116e12_ecea_11ea_b692_1c1b0da7d36brow0_col0,#T_a8116e12_ecea_11ea_b692_1c1b0da7d36brow0_col1,#T_a8116e12_ecea_11ea_b692_1c1b0da7d36brow0_col2,#T_a8116e12_ecea_11ea_b692_1c1b0da7d36brow0_col3,#T_a8116e12_ecea_11ea_b692_1c1b0da7d36brow1_col0,#T_a8116e12_ecea_11ea_b692_1c1b0da7d36brow1_col1,#T_a8116e12_ecea_11ea_b692_1c1b0da7d36brow1_col2,#T_a8116e12_ecea_11ea_b692_1c1b0da7d36brow1_col3,#T_a8116e12_ecea_11ea_b692_1c1b0da7d36brow2_col0,#T_a8116e12_ecea_11ea_b692_1c1b0da7d36brow2_col1,#T_a8116e12_ecea_11ea_b692_1c1b0da7d36brow2_col2,#T_a8116e12_ecea_11ea_b692_1c1b0da7d36brow2_col3,#T_a8116e12_ecea_11ea_b692_1c1b0da7d36brow3_col0,#T_a8116e12_ecea_11ea_b692_1c1b0da7d36brow3_col1,#T_a8116e12_ecea_11ea_b692_1c1b0da7d36brow3_col2,#T_a8116e12_ecea_11ea_b692_1c1b0da7d36brow3_col3,#T_a8116e12_ecea_11ea_b692_1c1b0da7d36brow4_col4,#T_a8116e12_ecea_11ea_b692_1c1b0da7d36brow5_col5,#T_a8116e12_ecea_11ea_b692_1c1b0da7d36brow6_col6,#T_a8116e12_ecea_11ea_b692_1c1b0da7d36brow7_col7,#T_a8116e12_ecea_11ea_b692_1c1b0da7d36brow8_col8{\n",
       "            background-color:  #b40426;\n",
       "            color:  #f1f1f1;\n",
       "        }#T_a8116e12_ecea_11ea_b692_1c1b0da7d36brow0_col4,#T_a8116e12_ecea_11ea_b692_1c1b0da7d36brow1_col4,#T_a8116e12_ecea_11ea_b692_1c1b0da7d36brow2_col4,#T_a8116e12_ecea_11ea_b692_1c1b0da7d36brow3_col4,#T_a8116e12_ecea_11ea_b692_1c1b0da7d36brow4_col0,#T_a8116e12_ecea_11ea_b692_1c1b0da7d36brow4_col1,#T_a8116e12_ecea_11ea_b692_1c1b0da7d36brow4_col2,#T_a8116e12_ecea_11ea_b692_1c1b0da7d36brow4_col3{\n",
       "            background-color:  #dc5d4a;\n",
       "            color:  #000000;\n",
       "        }#T_a8116e12_ecea_11ea_b692_1c1b0da7d36brow0_col5,#T_a8116e12_ecea_11ea_b692_1c1b0da7d36brow1_col5,#T_a8116e12_ecea_11ea_b692_1c1b0da7d36brow2_col5,#T_a8116e12_ecea_11ea_b692_1c1b0da7d36brow3_col5{\n",
       "            background-color:  #5875e1;\n",
       "            color:  #000000;\n",
       "        }#T_a8116e12_ecea_11ea_b692_1c1b0da7d36brow0_col6,#T_a8116e12_ecea_11ea_b692_1c1b0da7d36brow2_col6,#T_a8116e12_ecea_11ea_b692_1c1b0da7d36brow3_col6{\n",
       "            background-color:  #cdd9ec;\n",
       "            color:  #000000;\n",
       "        }#T_a8116e12_ecea_11ea_b692_1c1b0da7d36brow0_col7,#T_a8116e12_ecea_11ea_b692_1c1b0da7d36brow1_col7,#T_a8116e12_ecea_11ea_b692_1c1b0da7d36brow2_col7,#T_a8116e12_ecea_11ea_b692_1c1b0da7d36brow3_col7{\n",
       "            background-color:  #adc9fd;\n",
       "            color:  #000000;\n",
       "        }#T_a8116e12_ecea_11ea_b692_1c1b0da7d36brow0_col8,#T_a8116e12_ecea_11ea_b692_1c1b0da7d36brow1_col8,#T_a8116e12_ecea_11ea_b692_1c1b0da7d36brow2_col8,#T_a8116e12_ecea_11ea_b692_1c1b0da7d36brow3_col8{\n",
       "            background-color:  #7295f4;\n",
       "            color:  #000000;\n",
       "        }#T_a8116e12_ecea_11ea_b692_1c1b0da7d36brow1_col6{\n",
       "            background-color:  #cedaeb;\n",
       "            color:  #000000;\n",
       "        }#T_a8116e12_ecea_11ea_b692_1c1b0da7d36brow4_col5{\n",
       "            background-color:  #5470de;\n",
       "            color:  #000000;\n",
       "        }#T_a8116e12_ecea_11ea_b692_1c1b0da7d36brow4_col6{\n",
       "            background-color:  #c0d4f5;\n",
       "            color:  #000000;\n",
       "        }#T_a8116e12_ecea_11ea_b692_1c1b0da7d36brow4_col7{\n",
       "            background-color:  #a1c0ff;\n",
       "            color:  #000000;\n",
       "        }#T_a8116e12_ecea_11ea_b692_1c1b0da7d36brow4_col8{\n",
       "            background-color:  #6f92f3;\n",
       "            color:  #000000;\n",
       "        }#T_a8116e12_ecea_11ea_b692_1c1b0da7d36brow5_col0,#T_a8116e12_ecea_11ea_b692_1c1b0da7d36brow5_col1,#T_a8116e12_ecea_11ea_b692_1c1b0da7d36brow5_col2,#T_a8116e12_ecea_11ea_b692_1c1b0da7d36brow5_col3,#T_a8116e12_ecea_11ea_b692_1c1b0da7d36brow5_col4,#T_a8116e12_ecea_11ea_b692_1c1b0da7d36brow5_col6,#T_a8116e12_ecea_11ea_b692_1c1b0da7d36brow5_col7,#T_a8116e12_ecea_11ea_b692_1c1b0da7d36brow5_col8,#T_a8116e12_ecea_11ea_b692_1c1b0da7d36brow6_col5{\n",
       "            background-color:  #3b4cc0;\n",
       "            color:  #f1f1f1;\n",
       "        }#T_a8116e12_ecea_11ea_b692_1c1b0da7d36brow6_col0,#T_a8116e12_ecea_11ea_b692_1c1b0da7d36brow6_col2,#T_a8116e12_ecea_11ea_b692_1c1b0da7d36brow6_col3{\n",
       "            background-color:  #bbd1f8;\n",
       "            color:  #000000;\n",
       "        }#T_a8116e12_ecea_11ea_b692_1c1b0da7d36brow6_col1{\n",
       "            background-color:  #bcd2f7;\n",
       "            color:  #000000;\n",
       "        }#T_a8116e12_ecea_11ea_b692_1c1b0da7d36brow6_col4{\n",
       "            background-color:  #aec9fc;\n",
       "            color:  #000000;\n",
       "        }#T_a8116e12_ecea_11ea_b692_1c1b0da7d36brow6_col7{\n",
       "            background-color:  #e36b54;\n",
       "            color:  #000000;\n",
       "        }#T_a8116e12_ecea_11ea_b692_1c1b0da7d36brow6_col8{\n",
       "            background-color:  #f5c1a9;\n",
       "            color:  #000000;\n",
       "        }#T_a8116e12_ecea_11ea_b692_1c1b0da7d36brow7_col0,#T_a8116e12_ecea_11ea_b692_1c1b0da7d36brow7_col1,#T_a8116e12_ecea_11ea_b692_1c1b0da7d36brow7_col2,#T_a8116e12_ecea_11ea_b692_1c1b0da7d36brow7_col3{\n",
       "            background-color:  #a6c4fe;\n",
       "            color:  #000000;\n",
       "        }#T_a8116e12_ecea_11ea_b692_1c1b0da7d36brow7_col4{\n",
       "            background-color:  #9ebeff;\n",
       "            color:  #000000;\n",
       "        }#T_a8116e12_ecea_11ea_b692_1c1b0da7d36brow7_col5{\n",
       "            background-color:  #4f69d9;\n",
       "            color:  #000000;\n",
       "        }#T_a8116e12_ecea_11ea_b692_1c1b0da7d36brow7_col6{\n",
       "            background-color:  #e0654f;\n",
       "            color:  #000000;\n",
       "        }#T_a8116e12_ecea_11ea_b692_1c1b0da7d36brow7_col8{\n",
       "            background-color:  #f7b093;\n",
       "            color:  #000000;\n",
       "        }#T_a8116e12_ecea_11ea_b692_1c1b0da7d36brow8_col0,#T_a8116e12_ecea_11ea_b692_1c1b0da7d36brow8_col1,#T_a8116e12_ecea_11ea_b692_1c1b0da7d36brow8_col2,#T_a8116e12_ecea_11ea_b692_1c1b0da7d36brow8_col3,#T_a8116e12_ecea_11ea_b692_1c1b0da7d36brow8_col4{\n",
       "            background-color:  #6687ed;\n",
       "            color:  #000000;\n",
       "        }#T_a8116e12_ecea_11ea_b692_1c1b0da7d36brow8_col5{\n",
       "            background-color:  #4b64d5;\n",
       "            color:  #f1f1f1;\n",
       "        }#T_a8116e12_ecea_11ea_b692_1c1b0da7d36brow8_col6{\n",
       "            background-color:  #f7bca1;\n",
       "            color:  #000000;\n",
       "        }#T_a8116e12_ecea_11ea_b692_1c1b0da7d36brow8_col7{\n",
       "            background-color:  #f7b194;\n",
       "            color:  #000000;\n",
       "        }</style><table id=\"T_a8116e12_ecea_11ea_b692_1c1b0da7d36b\" ><thead>    <tr>        <th class=\"blank level0\" ></th>        <th class=\"col_heading level0 col0\" >last_traded_price</th>        <th class=\"col_heading level0 col1\" >high</th>        <th class=\"col_heading level0 col2\" >low</th>        <th class=\"col_heading level0 col3\" >opening_price</th>        <th class=\"col_heading level0 col4\" >closing_price</th>        <th class=\"col_heading level0 col5\" >yesterdays_closing_price</th>        <th class=\"col_heading level0 col6\" >trade</th>        <th class=\"col_heading level0 col7\" >value_mn</th>        <th class=\"col_heading level0 col8\" >volume</th>    </tr></thead><tbody>\n",
       "                <tr>\n",
       "                        <th id=\"T_a8116e12_ecea_11ea_b692_1c1b0da7d36blevel0_row0\" class=\"row_heading level0 row0\" >last_traded_price</th>\n",
       "                        <td id=\"T_a8116e12_ecea_11ea_b692_1c1b0da7d36brow0_col0\" class=\"data row0 col0\" >1.000000</td>\n",
       "                        <td id=\"T_a8116e12_ecea_11ea_b692_1c1b0da7d36brow0_col1\" class=\"data row0 col1\" >0.999780</td>\n",
       "                        <td id=\"T_a8116e12_ecea_11ea_b692_1c1b0da7d36brow0_col2\" class=\"data row0 col2\" >0.999722</td>\n",
       "                        <td id=\"T_a8116e12_ecea_11ea_b692_1c1b0da7d36brow0_col3\" class=\"data row0 col3\" >0.999543</td>\n",
       "                        <td id=\"T_a8116e12_ecea_11ea_b692_1c1b0da7d36brow0_col4\" class=\"data row0 col4\" >0.853467</td>\n",
       "                        <td id=\"T_a8116e12_ecea_11ea_b692_1c1b0da7d36brow0_col5\" class=\"data row0 col5\" >-0.219692</td>\n",
       "                        <td id=\"T_a8116e12_ecea_11ea_b692_1c1b0da7d36brow0_col6\" class=\"data row0 col6\" >0.250126</td>\n",
       "                        <td id=\"T_a8116e12_ecea_11ea_b692_1c1b0da7d36brow0_col7\" class=\"data row0 col7\" >0.173215</td>\n",
       "                        <td id=\"T_a8116e12_ecea_11ea_b692_1c1b0da7d36brow0_col8\" class=\"data row0 col8\" >-0.049993</td>\n",
       "            </tr>\n",
       "            <tr>\n",
       "                        <th id=\"T_a8116e12_ecea_11ea_b692_1c1b0da7d36blevel0_row1\" class=\"row_heading level0 row1\" >high</th>\n",
       "                        <td id=\"T_a8116e12_ecea_11ea_b692_1c1b0da7d36brow1_col0\" class=\"data row1 col0\" >0.999780</td>\n",
       "                        <td id=\"T_a8116e12_ecea_11ea_b692_1c1b0da7d36brow1_col1\" class=\"data row1 col1\" >1.000000</td>\n",
       "                        <td id=\"T_a8116e12_ecea_11ea_b692_1c1b0da7d36brow1_col2\" class=\"data row1 col2\" >0.999583</td>\n",
       "                        <td id=\"T_a8116e12_ecea_11ea_b692_1c1b0da7d36brow1_col3\" class=\"data row1 col3\" >0.999715</td>\n",
       "                        <td id=\"T_a8116e12_ecea_11ea_b692_1c1b0da7d36brow1_col4\" class=\"data row1 col4\" >0.853290</td>\n",
       "                        <td id=\"T_a8116e12_ecea_11ea_b692_1c1b0da7d36brow1_col5\" class=\"data row1 col5\" >-0.220060</td>\n",
       "                        <td id=\"T_a8116e12_ecea_11ea_b692_1c1b0da7d36brow1_col6\" class=\"data row1 col6\" >0.253382</td>\n",
       "                        <td id=\"T_a8116e12_ecea_11ea_b692_1c1b0da7d36brow1_col7\" class=\"data row1 col7\" >0.175349</td>\n",
       "                        <td id=\"T_a8116e12_ecea_11ea_b692_1c1b0da7d36brow1_col8\" class=\"data row1 col8\" >-0.049779</td>\n",
       "            </tr>\n",
       "            <tr>\n",
       "                        <th id=\"T_a8116e12_ecea_11ea_b692_1c1b0da7d36blevel0_row2\" class=\"row_heading level0 row2\" >low</th>\n",
       "                        <td id=\"T_a8116e12_ecea_11ea_b692_1c1b0da7d36brow2_col0\" class=\"data row2 col0\" >0.999722</td>\n",
       "                        <td id=\"T_a8116e12_ecea_11ea_b692_1c1b0da7d36brow2_col1\" class=\"data row2 col1\" >0.999583</td>\n",
       "                        <td id=\"T_a8116e12_ecea_11ea_b692_1c1b0da7d36brow2_col2\" class=\"data row2 col2\" >1.000000</td>\n",
       "                        <td id=\"T_a8116e12_ecea_11ea_b692_1c1b0da7d36brow2_col3\" class=\"data row2 col3\" >0.999806</td>\n",
       "                        <td id=\"T_a8116e12_ecea_11ea_b692_1c1b0da7d36brow2_col4\" class=\"data row2 col4\" >0.853295</td>\n",
       "                        <td id=\"T_a8116e12_ecea_11ea_b692_1c1b0da7d36brow2_col5\" class=\"data row2 col5\" >-0.219392</td>\n",
       "                        <td id=\"T_a8116e12_ecea_11ea_b692_1c1b0da7d36brow2_col6\" class=\"data row2 col6\" >0.247770</td>\n",
       "                        <td id=\"T_a8116e12_ecea_11ea_b692_1c1b0da7d36brow2_col7\" class=\"data row2 col7\" >0.171350</td>\n",
       "                        <td id=\"T_a8116e12_ecea_11ea_b692_1c1b0da7d36brow2_col8\" class=\"data row2 col8\" >-0.050376</td>\n",
       "            </tr>\n",
       "            <tr>\n",
       "                        <th id=\"T_a8116e12_ecea_11ea_b692_1c1b0da7d36blevel0_row3\" class=\"row_heading level0 row3\" >opening_price</th>\n",
       "                        <td id=\"T_a8116e12_ecea_11ea_b692_1c1b0da7d36brow3_col0\" class=\"data row3 col0\" >0.999543</td>\n",
       "                        <td id=\"T_a8116e12_ecea_11ea_b692_1c1b0da7d36brow3_col1\" class=\"data row3 col1\" >0.999715</td>\n",
       "                        <td id=\"T_a8116e12_ecea_11ea_b692_1c1b0da7d36brow3_col2\" class=\"data row3 col2\" >0.999806</td>\n",
       "                        <td id=\"T_a8116e12_ecea_11ea_b692_1c1b0da7d36brow3_col3\" class=\"data row3 col3\" >1.000000</td>\n",
       "                        <td id=\"T_a8116e12_ecea_11ea_b692_1c1b0da7d36brow3_col4\" class=\"data row3 col4\" >0.853108</td>\n",
       "                        <td id=\"T_a8116e12_ecea_11ea_b692_1c1b0da7d36brow3_col5\" class=\"data row3 col5\" >-0.219848</td>\n",
       "                        <td id=\"T_a8116e12_ecea_11ea_b692_1c1b0da7d36brow3_col6\" class=\"data row3 col6\" >0.250867</td>\n",
       "                        <td id=\"T_a8116e12_ecea_11ea_b692_1c1b0da7d36brow3_col7\" class=\"data row3 col7\" >0.173288</td>\n",
       "                        <td id=\"T_a8116e12_ecea_11ea_b692_1c1b0da7d36brow3_col8\" class=\"data row3 col8\" >-0.050206</td>\n",
       "            </tr>\n",
       "            <tr>\n",
       "                        <th id=\"T_a8116e12_ecea_11ea_b692_1c1b0da7d36blevel0_row4\" class=\"row_heading level0 row4\" >closing_price</th>\n",
       "                        <td id=\"T_a8116e12_ecea_11ea_b692_1c1b0da7d36brow4_col0\" class=\"data row4 col0\" >0.853467</td>\n",
       "                        <td id=\"T_a8116e12_ecea_11ea_b692_1c1b0da7d36brow4_col1\" class=\"data row4 col1\" >0.853290</td>\n",
       "                        <td id=\"T_a8116e12_ecea_11ea_b692_1c1b0da7d36brow4_col2\" class=\"data row4 col2\" >0.853295</td>\n",
       "                        <td id=\"T_a8116e12_ecea_11ea_b692_1c1b0da7d36brow4_col3\" class=\"data row4 col3\" >0.853108</td>\n",
       "                        <td id=\"T_a8116e12_ecea_11ea_b692_1c1b0da7d36brow4_col4\" class=\"data row4 col4\" >1.000000</td>\n",
       "                        <td id=\"T_a8116e12_ecea_11ea_b692_1c1b0da7d36brow4_col5\" class=\"data row4 col5\" >-0.236200</td>\n",
       "                        <td id=\"T_a8116e12_ecea_11ea_b692_1c1b0da7d36brow4_col6\" class=\"data row4 col6\" >0.191282</td>\n",
       "                        <td id=\"T_a8116e12_ecea_11ea_b692_1c1b0da7d36brow4_col7\" class=\"data row4 col7\" >0.131377</td>\n",
       "                        <td id=\"T_a8116e12_ecea_11ea_b692_1c1b0da7d36brow4_col8\" class=\"data row4 col8\" >-0.064254</td>\n",
       "            </tr>\n",
       "            <tr>\n",
       "                        <th id=\"T_a8116e12_ecea_11ea_b692_1c1b0da7d36blevel0_row5\" class=\"row_heading level0 row5\" >yesterdays_closing_price</th>\n",
       "                        <td id=\"T_a8116e12_ecea_11ea_b692_1c1b0da7d36brow5_col0\" class=\"data row5 col0\" >-0.219692</td>\n",
       "                        <td id=\"T_a8116e12_ecea_11ea_b692_1c1b0da7d36brow5_col1\" class=\"data row5 col1\" >-0.220060</td>\n",
       "                        <td id=\"T_a8116e12_ecea_11ea_b692_1c1b0da7d36brow5_col2\" class=\"data row5 col2\" >-0.219392</td>\n",
       "                        <td id=\"T_a8116e12_ecea_11ea_b692_1c1b0da7d36brow5_col3\" class=\"data row5 col3\" >-0.219848</td>\n",
       "                        <td id=\"T_a8116e12_ecea_11ea_b692_1c1b0da7d36brow5_col4\" class=\"data row5 col4\" >-0.236200</td>\n",
       "                        <td id=\"T_a8116e12_ecea_11ea_b692_1c1b0da7d36brow5_col5\" class=\"data row5 col5\" >1.000000</td>\n",
       "                        <td id=\"T_a8116e12_ecea_11ea_b692_1c1b0da7d36brow5_col6\" class=\"data row5 col6\" >-0.347934</td>\n",
       "                        <td id=\"T_a8116e12_ecea_11ea_b692_1c1b0da7d36brow5_col7\" class=\"data row5 col7\" >-0.255771</td>\n",
       "                        <td id=\"T_a8116e12_ecea_11ea_b692_1c1b0da7d36brow5_col8\" class=\"data row5 col8\" >-0.273476</td>\n",
       "            </tr>\n",
       "            <tr>\n",
       "                        <th id=\"T_a8116e12_ecea_11ea_b692_1c1b0da7d36blevel0_row6\" class=\"row_heading level0 row6\" >trade</th>\n",
       "                        <td id=\"T_a8116e12_ecea_11ea_b692_1c1b0da7d36brow6_col0\" class=\"data row6 col0\" >0.250126</td>\n",
       "                        <td id=\"T_a8116e12_ecea_11ea_b692_1c1b0da7d36brow6_col1\" class=\"data row6 col1\" >0.253382</td>\n",
       "                        <td id=\"T_a8116e12_ecea_11ea_b692_1c1b0da7d36brow6_col2\" class=\"data row6 col2\" >0.247770</td>\n",
       "                        <td id=\"T_a8116e12_ecea_11ea_b692_1c1b0da7d36brow6_col3\" class=\"data row6 col3\" >0.250867</td>\n",
       "                        <td id=\"T_a8116e12_ecea_11ea_b692_1c1b0da7d36brow6_col4\" class=\"data row6 col4\" >0.191282</td>\n",
       "                        <td id=\"T_a8116e12_ecea_11ea_b692_1c1b0da7d36brow6_col5\" class=\"data row6 col5\" >-0.347934</td>\n",
       "                        <td id=\"T_a8116e12_ecea_11ea_b692_1c1b0da7d36brow6_col6\" class=\"data row6 col6\" >1.000000</td>\n",
       "                        <td id=\"T_a8116e12_ecea_11ea_b692_1c1b0da7d36brow6_col7\" class=\"data row6 col7\" >0.816625</td>\n",
       "                        <td id=\"T_a8116e12_ecea_11ea_b692_1c1b0da7d36brow6_col8\" class=\"data row6 col8\" >0.533105</td>\n",
       "            </tr>\n",
       "            <tr>\n",
       "                        <th id=\"T_a8116e12_ecea_11ea_b692_1c1b0da7d36blevel0_row7\" class=\"row_heading level0 row7\" >value_mn</th>\n",
       "                        <td id=\"T_a8116e12_ecea_11ea_b692_1c1b0da7d36brow7_col0\" class=\"data row7 col0\" >0.173215</td>\n",
       "                        <td id=\"T_a8116e12_ecea_11ea_b692_1c1b0da7d36brow7_col1\" class=\"data row7 col1\" >0.175349</td>\n",
       "                        <td id=\"T_a8116e12_ecea_11ea_b692_1c1b0da7d36brow7_col2\" class=\"data row7 col2\" >0.171350</td>\n",
       "                        <td id=\"T_a8116e12_ecea_11ea_b692_1c1b0da7d36brow7_col3\" class=\"data row7 col3\" >0.173288</td>\n",
       "                        <td id=\"T_a8116e12_ecea_11ea_b692_1c1b0da7d36brow7_col4\" class=\"data row7 col4\" >0.131377</td>\n",
       "                        <td id=\"T_a8116e12_ecea_11ea_b692_1c1b0da7d36brow7_col5\" class=\"data row7 col5\" >-0.255771</td>\n",
       "                        <td id=\"T_a8116e12_ecea_11ea_b692_1c1b0da7d36brow7_col6\" class=\"data row7 col6\" >0.816625</td>\n",
       "                        <td id=\"T_a8116e12_ecea_11ea_b692_1c1b0da7d36brow7_col7\" class=\"data row7 col7\" >1.000000</td>\n",
       "                        <td id=\"T_a8116e12_ecea_11ea_b692_1c1b0da7d36brow7_col8\" class=\"data row7 col8\" >0.606151</td>\n",
       "            </tr>\n",
       "            <tr>\n",
       "                        <th id=\"T_a8116e12_ecea_11ea_b692_1c1b0da7d36blevel0_row8\" class=\"row_heading level0 row8\" >volume</th>\n",
       "                        <td id=\"T_a8116e12_ecea_11ea_b692_1c1b0da7d36brow8_col0\" class=\"data row8 col0\" >-0.049993</td>\n",
       "                        <td id=\"T_a8116e12_ecea_11ea_b692_1c1b0da7d36brow8_col1\" class=\"data row8 col1\" >-0.049779</td>\n",
       "                        <td id=\"T_a8116e12_ecea_11ea_b692_1c1b0da7d36brow8_col2\" class=\"data row8 col2\" >-0.050376</td>\n",
       "                        <td id=\"T_a8116e12_ecea_11ea_b692_1c1b0da7d36brow8_col3\" class=\"data row8 col3\" >-0.050206</td>\n",
       "                        <td id=\"T_a8116e12_ecea_11ea_b692_1c1b0da7d36brow8_col4\" class=\"data row8 col4\" >-0.064254</td>\n",
       "                        <td id=\"T_a8116e12_ecea_11ea_b692_1c1b0da7d36brow8_col5\" class=\"data row8 col5\" >-0.273476</td>\n",
       "                        <td id=\"T_a8116e12_ecea_11ea_b692_1c1b0da7d36brow8_col6\" class=\"data row8 col6\" >0.533105</td>\n",
       "                        <td id=\"T_a8116e12_ecea_11ea_b692_1c1b0da7d36brow8_col7\" class=\"data row8 col7\" >0.606151</td>\n",
       "                        <td id=\"T_a8116e12_ecea_11ea_b692_1c1b0da7d36brow8_col8\" class=\"data row8 col8\" >1.000000</td>\n",
       "            </tr>\n",
       "    </tbody></table>"
      ],
      "text/plain": [
       "<pandas.io.formats.style.Styler at 0x21a84b1f508>"
      ]
     },
     "execution_count": 32,
     "metadata": {},
     "output_type": "execute_result"
    }
   ],
   "source": [
    "correlationFrame.style.background_gradient(cmap='coolwarm')"
   ]
  },
  {
   "cell_type": "code",
   "execution_count": 33,
   "metadata": {},
   "outputs": [],
   "source": [
    "x = df.drop(\"closing_price\",axis = 1)\n",
    "y = df[\"closing_price\"]"
   ]
  },
  {
   "cell_type": "code",
   "execution_count": 34,
   "metadata": {},
   "outputs": [],
   "source": [
    "from sklearn.linear_model import LinearRegression\n",
    "model = LinearRegression()"
   ]
  },
  {
   "cell_type": "code",
   "execution_count": 36,
   "metadata": {},
   "outputs": [
    {
     "data": {
      "text/plain": [
       "LinearRegression()"
      ]
     },
     "execution_count": 36,
     "metadata": {},
     "output_type": "execute_result"
    }
   ],
   "source": [
    "model.fit(x, y)"
   ]
  },
  {
   "cell_type": "code",
   "execution_count": 37,
   "metadata": {},
   "outputs": [
    {
     "name": "stdout",
     "output_type": "stream",
     "text": [
      "40.04582824937215 [ 6.16079972e-01  4.06377235e-01  1.53661222e-01 -2.10895713e-01\n",
      " -3.95202523e-04 -2.83396480e-02  2.93035580e-01 -1.25875822e-05]\n"
     ]
    }
   ],
   "source": [
    "print(model.intercept_, model.coef_)"
   ]
  },
  {
   "cell_type": "code",
   "execution_count": 38,
   "metadata": {},
   "outputs": [],
   "source": [
    "from sklearn.model_selection import train_test_split\n",
    "x_train, x_test, y_train, y_test = train_test_split(x, y, test_size = 0.2, random_state = 0)"
   ]
  },
  {
   "cell_type": "code",
   "execution_count": 39,
   "metadata": {},
   "outputs": [
    {
     "data": {
      "text/plain": [
       "LinearRegression()"
      ]
     },
     "execution_count": 39,
     "metadata": {},
     "output_type": "execute_result"
    }
   ],
   "source": [
    "model = LinearRegression()\n",
    "model.fit(x_train, y_train)"
   ]
  },
  {
   "cell_type": "code",
   "execution_count": 40,
   "metadata": {},
   "outputs": [],
   "source": [
    "y_test_pred = model.predict(x_test)\n",
    "y_train_pred = model.predict(x_train)"
   ]
  },
  {
   "cell_type": "code",
   "execution_count": 41,
   "metadata": {},
   "outputs": [
    {
     "data": {
      "text/plain": [
       "0.7501006011621132"
      ]
     },
     "execution_count": 41,
     "metadata": {},
     "output_type": "execute_result"
    }
   ],
   "source": [
    "from sklearn.metrics import r2_score\n",
    "r2_score(y_test, y_test_pred)"
   ]
  },
  {
   "cell_type": "code",
   "execution_count": 42,
   "metadata": {},
   "outputs": [
    {
     "data": {
      "text/plain": [
       "0.7501006011621132"
      ]
     },
     "execution_count": 42,
     "metadata": {},
     "output_type": "execute_result"
    }
   ],
   "source": [
    "r2_score(y_test, y_test_pred)"
   ]
  },
  {
   "cell_type": "code",
   "execution_count": null,
   "metadata": {},
   "outputs": [],
   "source": []
  }
 ],
 "metadata": {
  "kernelspec": {
   "display_name": "tensorflow",
   "language": "python",
   "name": "tensorflow"
  },
  "language_info": {
   "codemirror_mode": {
    "name": "ipython",
    "version": 3
   },
   "file_extension": ".py",
   "mimetype": "text/x-python",
   "name": "python",
   "nbconvert_exporter": "python",
   "pygments_lexer": "ipython3",
   "version": "3.7.7"
  }
 },
 "nbformat": 4,
 "nbformat_minor": 4
}
