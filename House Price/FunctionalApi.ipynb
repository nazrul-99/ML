{
 "cells": [
  {
   "cell_type": "code",
   "execution_count": 1,
   "metadata": {},
   "outputs": [],
   "source": [
    "import numpy as np\n",
    "import pandas as pd\n",
    "%matplotlib inline\n",
    "import matplotlib as mpl\n",
    "import matplotlib.pyplot as plt"
   ]
  },
  {
   "cell_type": "code",
   "execution_count": 2,
   "metadata": {},
   "outputs": [],
   "source": [
    "import tensorflow as tf\n",
    "from tensorflow import keras"
   ]
  },
  {
   "cell_type": "markdown",
   "metadata": {},
   "source": [
    "We will use California Housing datasets for using a dummy functional api"
   ]
  },
  {
   "cell_type": "code",
   "execution_count": 3,
   "metadata": {},
   "outputs": [],
   "source": [
    "from sklearn.datasets import fetch_california_housing\n",
    "housing = fetch_california_housing()"
   ]
  },
  {
   "cell_type": "markdown",
   "metadata": {},
   "source": [
    "The above database contains\n",
    "* 20640 datas of house\n",
    "* 9 feature with 8 numerics \n",
    "* This 8 numeric features is independend\n",
    "* The rest 1 feature in dependend"
   ]
  },
  {
   "cell_type": "code",
   "execution_count": 4,
   "metadata": {},
   "outputs": [
    {
     "name": "stdout",
     "output_type": "stream",
     "text": [
      "['MedInc', 'HouseAge', 'AveRooms', 'AveBedrms', 'Population', 'AveOccup', 'Latitude', 'Longitude']\n"
     ]
    }
   ],
   "source": [
    "print(housing.feature_names)"
   ]
  },
  {
   "cell_type": "markdown",
   "metadata": {},
   "source": [
    "Here we are separating data into train datasets, test datasets and validation datasets using \"train_test_split\""
   ]
  },
  {
   "cell_type": "code",
   "execution_count": 5,
   "metadata": {},
   "outputs": [],
   "source": [
    "from sklearn.model_selection import train_test_split\n",
    "x_trainFull, x_test, y_trainFull, y_test = train_test_split(housing.data, housing.target, random_state = 42)\n",
    "x_train, x_valid, y_train, y_valid = train_test_split(x_trainFull, y_trainFull)"
   ]
  },
  {
   "cell_type": "markdown",
   "metadata": {},
   "source": [
    "Standardization of Data"
   ]
  },
  {
   "cell_type": "code",
   "execution_count": 6,
   "metadata": {},
   "outputs": [],
   "source": [
    "from sklearn.preprocessing import StandardScaler\n",
    "scaler = StandardScaler()\n",
    "x_train = scaler.fit_transform(x_train)\n",
    "x_test = scaler.transform(x_test)\n",
    "x_valid = scaler.transform(x_valid)"
   ]
  },
  {
   "cell_type": "markdown",
   "metadata": {},
   "source": [
    "# Functional Api"
   ]
  },
  {
   "cell_type": "code",
   "execution_count": 7,
   "metadata": {},
   "outputs": [],
   "source": [
    "np.random.seed(42)\n",
    "tf.random.set_seed(42)"
   ]
  },
  {
   "cell_type": "markdown",
   "metadata": {},
   "source": [
    "Here we will use functional api\n",
    "and suppose our model consists of \n",
    "* one input layer \n",
    "* two hidden layer\n",
    "* one concatenate layer(wide)\n",
    "* one output\n",
    "Also this model is called \"WIDE AND DEEP\" network\n",
    "                   "
   ]
  },
  {
   "cell_type": "code",
   "execution_count": 8,
   "metadata": {},
   "outputs": [],
   "source": [
    "inputLayer = keras.layers.Input(shape = x_train.shape[1:])\n",
    "hidden1 = keras.layers.Dense(30, activation = \"relu\")(inputLayer)\n",
    "hidden2 = keras.layers.Dense(30, activation = \"relu\")(hidden1)\n",
    "concate = keras.layers.concatenate([inputLayer, hidden2])\n",
    "output = keras.layers.Dense(1)(concate)\n",
    "\n",
    "model = keras.models.Model(inputs = [inputLayer], outputs = [output])\n"
   ]
  },
  {
   "cell_type": "markdown",
   "metadata": {},
   "source": [
    "Now lets see our model"
   ]
  },
  {
   "cell_type": "code",
   "execution_count": 9,
   "metadata": {},
   "outputs": [
    {
     "name": "stdout",
     "output_type": "stream",
     "text": [
      "Model: \"model\"\n",
      "__________________________________________________________________________________________________\n",
      "Layer (type)                    Output Shape         Param #     Connected to                     \n",
      "==================================================================================================\n",
      "input_1 (InputLayer)            [(None, 8)]          0                                            \n",
      "__________________________________________________________________________________________________\n",
      "dense (Dense)                   (None, 30)           270         input_1[0][0]                    \n",
      "__________________________________________________________________________________________________\n",
      "dense_1 (Dense)                 (None, 30)           930         dense[0][0]                      \n",
      "__________________________________________________________________________________________________\n",
      "concatenate (Concatenate)       (None, 38)           0           input_1[0][0]                    \n",
      "                                                                 dense_1[0][0]                    \n",
      "__________________________________________________________________________________________________\n",
      "dense_2 (Dense)                 (None, 1)            39          concatenate[0][0]                \n",
      "==================================================================================================\n",
      "Total params: 1,239\n",
      "Trainable params: 1,239\n",
      "Non-trainable params: 0\n",
      "__________________________________________________________________________________________________\n"
     ]
    }
   ],
   "source": [
    "model.summary()"
   ]
  },
  {
   "cell_type": "code",
   "execution_count": 10,
   "metadata": {},
   "outputs": [
    {
     "data": {
      "image/png": "[encoded data removed]",
      "text/plain": [
       "<IPython.core.display.Image object>"
      ]
     },
     "execution_count": 10,
     "metadata": {},
     "output_type": "execute_result"
    }
   ],
   "source": [
    "import pydot\n",
    "keras.utils.plot_model(model)"
   ]
  },
  {
   "cell_type": "markdown",
   "metadata": {},
   "source": [
    "Now we will set up the learning process for the model and training our model"
   ]
  },
  {
   "cell_type": "code",
   "execution_count": 11,
   "metadata": {},
   "outputs": [],
   "source": [
    "model.compile(loss = \"mean_squared_error\",\n",
    "             optimizer = keras.optimizers.SGD(lr = 1e-3),\n",
    "             metrics = [\"mae\"])"
   ]
  },
  {
   "cell_type": "code",
   "execution_count": 12,
   "metadata": {
    "scrolled": true
   },
   "outputs": [
    {
     "name": "stdout",
     "output_type": "stream",
     "text": [
      "Train on 11610 samples, validate on 3870 samples\n",
      "Epoch 1/40\n",
      "11610/11610 [==============================] - 2s 129us/sample - loss: 1.3157 - mae: 0.7958 - val_loss: 1.9048 - val_mae: 0.6220\n",
      "Epoch 2/40\n",
      "11610/11610 [==============================] - 1s 87us/sample - loss: 0.7217 - mae: 0.5876 - val_loss: 1.8814 - val_mae: 0.6158\n",
      "Epoch 3/40\n",
      "11610/11610 [==============================] - 1s 89us/sample - loss: 0.6397 - mae: 0.5645 - val_loss: 0.8573 - val_mae: 0.5547\n",
      "Epoch 4/40\n",
      "11610/11610 [==============================] - 1s 87us/sample - loss: 0.6036 - mae: 0.5511 - val_loss: 0.6643 - val_mae: 0.5394\n",
      "Epoch 5/40\n",
      "11610/11610 [==============================] - 1s 89us/sample - loss: 0.5582 - mae: 0.5353 - val_loss: 0.5333 - val_mae: 0.5216\n",
      "Epoch 6/40\n",
      "11610/11610 [==============================] - 1s 87us/sample - loss: 0.5417 - mae: 0.5267 - val_loss: 0.5219 - val_mae: 0.5142\n",
      "Epoch 7/40\n",
      "11610/11610 [==============================] - 1s 89us/sample - loss: 0.5225 - mae: 0.5173 - val_loss: 0.4908 - val_mae: 0.5077\n",
      "Epoch 8/40\n",
      "11610/11610 [==============================] - 1s 92us/sample - loss: 0.5099 - mae: 0.5111 - val_loss: 0.5140 - val_mae: 0.5051\n",
      "Epoch 9/40\n",
      "11610/11610 [==============================] - 1s 81us/sample - loss: 0.4970 - mae: 0.5045 - val_loss: 0.4610 - val_mae: 0.4894\n",
      "Epoch 10/40\n",
      "11610/11610 [==============================] - 1s 89us/sample - loss: 0.4866 - mae: 0.4991 - val_loss: 0.4602 - val_mae: 0.4851\n",
      "Epoch 11/40\n",
      "11610/11610 [==============================] - 1s 82us/sample - loss: 0.4765 - mae: 0.4940 - val_loss: 0.4449 - val_mae: 0.4809\n",
      "Epoch 12/40\n",
      "11610/11610 [==============================] - 1s 83us/sample - loss: 0.4675 - mae: 0.4895 - val_loss: 0.4342 - val_mae: 0.4727\n",
      "Epoch 13/40\n",
      "11610/11610 [==============================] - 1s 81us/sample - loss: 0.4597 - mae: 0.4847 - val_loss: 0.4471 - val_mae: 0.4765\n",
      "Epoch 14/40\n",
      "11610/11610 [==============================] - 1s 86us/sample - loss: 0.4523 - mae: 0.4815 - val_loss: 0.4197 - val_mae: 0.4662\n",
      "Epoch 15/40\n",
      "11610/11610 [==============================] - 1s 83us/sample - loss: 0.4459 - mae: 0.4771 - val_loss: 0.4178 - val_mae: 0.4663\n",
      "Epoch 16/40\n",
      "11610/11610 [==============================] - 1s 82us/sample - loss: 0.4399 - mae: 0.4749 - val_loss: 0.4320 - val_mae: 0.4665\n",
      "Epoch 17/40\n",
      "11610/11610 [==============================] - 1s 82us/sample - loss: 0.4344 - mae: 0.4719 - val_loss: 0.4038 - val_mae: 0.4565\n",
      "Epoch 18/40\n",
      "11610/11610 [==============================] - 1s 81us/sample - loss: 0.4304 - mae: 0.4690 - val_loss: 0.4187 - val_mae: 0.4612\n",
      "Epoch 19/40\n",
      "11610/11610 [==============================] - 1s 83us/sample - loss: 0.4252 - mae: 0.4665 - val_loss: 0.4015 - val_mae: 0.4563\n",
      "Epoch 20/40\n",
      "11610/11610 [==============================] - 1s 82us/sample - loss: 0.4214 - mae: 0.4650 - val_loss: 0.3986 - val_mae: 0.4521\n",
      "Epoch 21/40\n",
      "11610/11610 [==============================] - 1s 82us/sample - loss: 0.4179 - mae: 0.4621 - val_loss: 0.4074 - val_mae: 0.4527\n",
      "Epoch 22/40\n",
      "11610/11610 [==============================] - 1s 85us/sample - loss: 0.4145 - mae: 0.4604 - val_loss: 0.3895 - val_mae: 0.4468\n",
      "Epoch 23/40\n",
      "11610/11610 [==============================] - 1s 82us/sample - loss: 0.4112 - mae: 0.4584 - val_loss: 0.3904 - val_mae: 0.4450\n",
      "Epoch 24/40\n",
      "11610/11610 [==============================] - 1s 83us/sample - loss: 0.4087 - mae: 0.4569 - val_loss: 0.3845 - val_mae: 0.4427\n",
      "Epoch 25/40\n",
      "11610/11610 [==============================] - 1s 81us/sample - loss: 0.4062 - mae: 0.4547 - val_loss: 0.3955 - val_mae: 0.4479\n",
      "Epoch 26/40\n",
      "11610/11610 [==============================] - 1s 83us/sample - loss: 0.4035 - mae: 0.4540 - val_loss: 0.3808 - val_mae: 0.4409\n",
      "Epoch 27/40\n",
      "11610/11610 [==============================] - 1s 82us/sample - loss: 0.4016 - mae: 0.4523 - val_loss: 0.3925 - val_mae: 0.4435\n",
      "Epoch 28/40\n",
      "11610/11610 [==============================] - 1s 82us/sample - loss: 0.3992 - mae: 0.4506 - val_loss: 0.3769 - val_mae: 0.4388\n",
      "Epoch 29/40\n",
      "11610/11610 [==============================] - 1s 81us/sample - loss: 0.3971 - mae: 0.4497 - val_loss: 0.3777 - val_mae: 0.4380\n",
      "Epoch 30/40\n",
      "11610/11610 [==============================] - 1s 82us/sample - loss: 0.3949 - mae: 0.4480 - val_loss: 0.3793 - val_mae: 0.4375\n",
      "Epoch 31/40\n",
      "11610/11610 [==============================] - 1s 84us/sample - loss: 0.3932 - mae: 0.4471 - val_loss: 0.3724 - val_mae: 0.4351\n",
      "Epoch 32/40\n",
      "11610/11610 [==============================] - 1s 82us/sample - loss: 0.3916 - mae: 0.4460 - val_loss: 0.3793 - val_mae: 0.4376\n",
      "Epoch 33/40\n",
      "11610/11610 [==============================] - 1s 82us/sample - loss: 0.3899 - mae: 0.4448 - val_loss: 0.3696 - val_mae: 0.4337\n",
      "Epoch 34/40\n",
      "11610/11610 [==============================] - 1s 82us/sample - loss: 0.3882 - mae: 0.4437 - val_loss: 0.3804 - val_mae: 0.4360\n",
      "Epoch 35/40\n",
      "11610/11610 [==============================] - 1s 81us/sample - loss: 0.3866 - mae: 0.4424 - val_loss: 0.3703 - val_mae: 0.4373\n",
      "Epoch 36/40\n",
      "11610/11610 [==============================] - 1s 82us/sample - loss: 0.3851 - mae: 0.4421 - val_loss: 0.3797 - val_mae: 0.4353\n",
      "Epoch 37/40\n",
      "11610/11610 [==============================] - 1s 82us/sample - loss: 0.3836 - mae: 0.4406 - val_loss: 0.3645 - val_mae: 0.4308\n",
      "Epoch 38/40\n",
      "11610/11610 [==============================] - 1s 84us/sample - loss: 0.3823 - mae: 0.4400 - val_loss: 0.3739 - val_mae: 0.4323\n",
      "Epoch 39/40\n",
      "11610/11610 [==============================] - 1s 81us/sample - loss: 0.3809 - mae: 0.4387 - val_loss: 0.3631 - val_mae: 0.4295\n",
      "Epoch 40/40\n",
      "11610/11610 [==============================] - 1s 82us/sample - loss: 0.3795 - mae: 0.4383 - val_loss: 0.3717 - val_mae: 0.4281\n"
     ]
    }
   ],
   "source": [
    "model_history = model.fit(x_train, y_train, epochs = 40, validation_data = (x_valid, y_valid))"
   ]
  },
  {
   "cell_type": "code",
   "execution_count": 13,
   "metadata": {},
   "outputs": [
    {
     "data": {
      "text/plain": [
       "{'batch_size': 32,\n",
       " 'epochs': 40,\n",
       " 'steps': 363,\n",
       " 'samples': 11610,\n",
       " 'verbose': 0,\n",
       " 'do_validation': True,\n",
       " 'metrics': ['loss', 'mae', 'val_loss', 'val_mae']}"
      ]
     },
     "execution_count": 13,
     "metadata": {},
     "output_type": "execute_result"
    }
   ],
   "source": [
    "model_history.params"
   ]
  },
  {
   "cell_type": "code",
   "execution_count": 14,
   "metadata": {
    "scrolled": true
   },
   "outputs": [
    {
     "data": {
      "text/plain": [
       "{'loss': [1.3157237361567888,\n",
       "  0.7216670242493569,\n",
       "  0.6396683615512831,\n",
       "  0.6035518453231051,\n",
       "  0.5581503428846059,\n",
       "  0.5417100679761474,\n",
       "  0.5225052062213472,\n",
       "  0.5099258365351819,\n",
       "  0.4970418379288311,\n",
       "  0.4865507933315175,\n",
       "  0.4765112007259809,\n",
       "  0.4674854658114099,\n",
       "  0.45974453334455134,\n",
       "  0.45228128348518093,\n",
       "  0.4458851858421608,\n",
       "  0.43993325314831877,\n",
       "  0.4344251944626538,\n",
       "  0.4303565025534946,\n",
       "  0.4252298196567532,\n",
       "  0.4213808191325724,\n",
       "  0.41790633487044276,\n",
       "  0.41447455708216635,\n",
       "  0.4112433101933748,\n",
       "  0.4086870001935425,\n",
       "  0.4061506102251452,\n",
       "  0.40347225749215415,\n",
       "  0.40155494764999106,\n",
       "  0.39917530880007224,\n",
       "  0.39714583298135275,\n",
       "  0.39486339081473437,\n",
       "  0.3932324059147141,\n",
       "  0.39157915213927436,\n",
       "  0.3898679377856078,\n",
       "  0.38820737743562506,\n",
       "  0.3865552418556427,\n",
       "  0.38512853197143776,\n",
       "  0.3836304078165772,\n",
       "  0.38232426279891063,\n",
       "  0.3809059082845693,\n",
       "  0.37947221172975115],\n",
       " 'mae': [0.7958007,\n",
       "  0.5875551,\n",
       "  0.56451434,\n",
       "  0.5510638,\n",
       "  0.5353479,\n",
       "  0.5266784,\n",
       "  0.51730764,\n",
       "  0.5111267,\n",
       "  0.50445807,\n",
       "  0.49914768,\n",
       "  0.49398217,\n",
       "  0.48948744,\n",
       "  0.4846746,\n",
       "  0.48153764,\n",
       "  0.4771199,\n",
       "  0.47491655,\n",
       "  0.47193477,\n",
       "  0.46895814,\n",
       "  0.46652576,\n",
       "  0.464958,\n",
       "  0.46209058,\n",
       "  0.46037987,\n",
       "  0.45840704,\n",
       "  0.45689413,\n",
       "  0.45474723,\n",
       "  0.4540079,\n",
       "  0.45233017,\n",
       "  0.45063102,\n",
       "  0.44973034,\n",
       "  0.4480483,\n",
       "  0.4470506,\n",
       "  0.4459884,\n",
       "  0.4448151,\n",
       "  0.4437144,\n",
       "  0.44239548,\n",
       "  0.4420824,\n",
       "  0.44055468,\n",
       "  0.4399688,\n",
       "  0.4387153,\n",
       "  0.43828773],\n",
       " 'val_loss': [1.904816997759718,\n",
       "  1.881405889418082,\n",
       "  0.857309628564874,\n",
       "  0.6643179520772101,\n",
       "  0.533290373909381,\n",
       "  0.5219322727170101,\n",
       "  0.4908353745937347,\n",
       "  0.5139523586869548,\n",
       "  0.4610376849501016,\n",
       "  0.46018550559223775,\n",
       "  0.4448505919571071,\n",
       "  0.4341728936486158,\n",
       "  0.447052101217191,\n",
       "  0.41967306847104113,\n",
       "  0.4178079978132125,\n",
       "  0.4319554855503161,\n",
       "  0.40377285549806996,\n",
       "  0.41869932547096134,\n",
       "  0.4014723419065007,\n",
       "  0.3986456620138745,\n",
       "  0.40740942606938285,\n",
       "  0.3895433972048205,\n",
       "  0.3904054865664598,\n",
       "  0.38445454222903386,\n",
       "  0.39549600286385195,\n",
       "  0.3807629773475095,\n",
       "  0.39248384876460685,\n",
       "  0.376896810978266,\n",
       "  0.37773671153287863,\n",
       "  0.3792865950777857,\n",
       "  0.3724358745169578,\n",
       "  0.37932654007768757,\n",
       "  0.3696242750307078,\n",
       "  0.3803961181209377,\n",
       "  0.37028114677091595,\n",
       "  0.37965452216700374,\n",
       "  0.3644796230226216,\n",
       "  0.37388098631102296,\n",
       "  0.36309986290081525,\n",
       "  0.3716702326477652],\n",
       " 'val_mae': [0.6220359,\n",
       "  0.6157616,\n",
       "  0.55474335,\n",
       "  0.53937703,\n",
       "  0.5216446,\n",
       "  0.5141788,\n",
       "  0.50768733,\n",
       "  0.5051193,\n",
       "  0.48944628,\n",
       "  0.4851171,\n",
       "  0.4808658,\n",
       "  0.47268122,\n",
       "  0.47646976,\n",
       "  0.4662052,\n",
       "  0.46629646,\n",
       "  0.46649247,\n",
       "  0.45649722,\n",
       "  0.4611591,\n",
       "  0.45625657,\n",
       "  0.45209372,\n",
       "  0.4526587,\n",
       "  0.4467828,\n",
       "  0.44499663,\n",
       "  0.44273612,\n",
       "  0.44790086,\n",
       "  0.44088933,\n",
       "  0.44345877,\n",
       "  0.4388143,\n",
       "  0.437966,\n",
       "  0.43746892,\n",
       "  0.4350918,\n",
       "  0.43755385,\n",
       "  0.43374485,\n",
       "  0.43598053,\n",
       "  0.43732744,\n",
       "  0.43527678,\n",
       "  0.43075773,\n",
       "  0.43228003,\n",
       "  0.42951843,\n",
       "  0.42808083]}"
      ]
     },
     "execution_count": 14,
     "metadata": {},
     "output_type": "execute_result"
    }
   ],
   "source": [
    "model_history.history"
   ]
  },
  {
   "cell_type": "markdown",
   "metadata": {},
   "source": [
    "Now to see different aspect of the model"
   ]
  },
  {
   "cell_type": "code",
   "execution_count": 15,
   "metadata": {
    "scrolled": true
   },
   "outputs": [
    {
     "data": {
      "image/png": "[encoded data removed]",
      "text/plain": [
       "<Figure size 576x360 with 1 Axes>"
      ]
     },
     "metadata": {
      "needs_background": "light"
     },
     "output_type": "display_data"
    }
   ],
   "source": [
    "pd.DataFrame(model_history.history).plot(figsize = (8, 5))\n",
    "plt.grid(True)\n",
    "plt.gca().set_ylim(0,1)\n",
    "plt.show()"
   ]
  },
  {
   "cell_type": "markdown",
   "metadata": {},
   "source": [
    "# Now we are going to evaluate performance and predict data for our mode"
   ]
  },
  {
   "cell_type": "markdown",
   "metadata": {},
   "source": [
    "Now we will evaluate our model using \"evaluate()\" method on our model object "
   ]
  },
  {
   "cell_type": "code",
   "execution_count": 16,
   "metadata": {},
   "outputs": [
    {
     "name": "stdout",
     "output_type": "stream",
     "text": [
      "5160/5160 [==============================] - 0s 49us/sample - loss: 0.3807 - mae: 0.4401\n"
     ]
    }
   ],
   "source": [
    "mae_test = model.evaluate(x_test, y_test)"
   ]
  },
  {
   "cell_type": "markdown",
   "metadata": {},
   "source": [
    "Now we will predict value from the model"
   ]
  },
  {
   "cell_type": "code",
   "execution_count": 17,
   "metadata": {},
   "outputs": [],
   "source": [
    "# We have taken 3 data from \"test dataset\"\n",
    "x_new = x_test[:3]"
   ]
  },
  {
   "cell_type": "code",
   "execution_count": 18,
   "metadata": {},
   "outputs": [
    {
     "name": "stdout",
     "output_type": "stream",
     "text": [
      "[[0.51209795]\n",
      " [1.9532359 ]\n",
      " [3.548215  ]]\n",
      "[0.477   0.458   5.00001]\n"
     ]
    }
   ],
   "source": [
    "# Now predict the probability \n",
    "y_pred = model.predict(x_new)\n",
    "print(y_pred)\n",
    "print(y_test[:3])"
   ]
  },
  {
   "cell_type": "markdown",
   "metadata": {},
   "source": [
    "# Saving and Restoring "
   ]
  },
  {
   "cell_type": "code",
   "execution_count": 19,
   "metadata": {},
   "outputs": [
    {
     "data": {
      "text/plain": [
       "'C:\\\\Users\\\\naZRul\\\\Documents'"
      ]
     },
     "execution_count": 19,
     "metadata": {},
     "output_type": "execute_result"
    }
   ],
   "source": [
    "%pwd"
   ]
  },
  {
   "cell_type": "markdown",
   "metadata": {},
   "source": [
    "To save model we will use \"save()\" method in our created kerasModel object. In this case it is \"model\"\n",
    "and extention is hd5 short form \"h5\""
   ]
  },
  {
   "cell_type": "code",
   "execution_count": 20,
   "metadata": {},
   "outputs": [],
   "source": [
    "model.save(\"functionapikeras.h5\") "
   ]
  },
  {
   "cell_type": "markdown",
   "metadata": {},
   "source": [
    "To delete a kerasModel session"
   ]
  },
  {
   "cell_type": "code",
   "execution_count": 21,
   "metadata": {},
   "outputs": [],
   "source": [
    "del model"
   ]
  },
  {
   "cell_type": "code",
   "execution_count": 22,
   "metadata": {},
   "outputs": [],
   "source": [
    "keras.backend.clear_session()"
   ]
  },
  {
   "cell_type": "markdown",
   "metadata": {},
   "source": [
    "Now loading a saved model"
   ]
  },
  {
   "cell_type": "code",
   "execution_count": 23,
   "metadata": {},
   "outputs": [],
   "source": [
    "model = keras.models.load_model(\"functionapikeras.h5\")"
   ]
  },
  {
   "cell_type": "code",
   "execution_count": 24,
   "metadata": {},
   "outputs": [
    {
     "name": "stdout",
     "output_type": "stream",
     "text": [
      "Model: \"model\"\n",
      "__________________________________________________________________________________________________\n",
      "Layer (type)                    Output Shape         Param #     Connected to                     \n",
      "==================================================================================================\n",
      "input_1 (InputLayer)            [(None, 8)]          0                                            \n",
      "__________________________________________________________________________________________________\n",
      "dense (Dense)                   (None, 30)           270         input_1[0][0]                    \n",
      "__________________________________________________________________________________________________\n",
      "dense_1 (Dense)                 (None, 30)           930         dense[0][0]                      \n",
      "__________________________________________________________________________________________________\n",
      "concatenate (Concatenate)       (None, 38)           0           input_1[0][0]                    \n",
      "                                                                 dense_1[0][0]                    \n",
      "__________________________________________________________________________________________________\n",
      "dense_2 (Dense)                 (None, 1)            39          concatenate[0][0]                \n",
      "==================================================================================================\n",
      "Total params: 1,239\n",
      "Trainable params: 1,239\n",
      "Non-trainable params: 0\n",
      "__________________________________________________________________________________________________\n"
     ]
    }
   ],
   "source": [
    "model.summary()"
   ]
  },
  {
   "cell_type": "markdown",
   "metadata": {},
   "source": [
    "Now checking the model"
   ]
  },
  {
   "cell_type": "code",
   "execution_count": 25,
   "metadata": {},
   "outputs": [
    {
     "name": "stdout",
     "output_type": "stream",
     "text": [
      "5160/5160 [==============================] - 0s 58us/sample - loss: 0.3807 - mae: 0.4401\n"
     ]
    }
   ],
   "source": [
    "mae_test = model.evaluate(x_test, y_test)"
   ]
  },
  {
   "cell_type": "markdown",
   "metadata": {},
   "source": [
    "Now predict the model"
   ]
  },
  {
   "cell_type": "code",
   "execution_count": 26,
   "metadata": {
    "scrolled": true
   },
   "outputs": [
    {
     "name": "stdout",
     "output_type": "stream",
     "text": [
      "[[0.51209795]\n",
      " [1.9532359 ]\n",
      " [3.548215  ]]\n",
      "[0.477   0.458   5.00001]\n"
     ]
    }
   ],
   "source": [
    "y_pred = model.predict(x_new)\n",
    "print(y_pred)\n",
    "print(y_test[:3])"
   ]
  },
  {
   "cell_type": "markdown",
   "metadata": {},
   "source": [
    "# Using the \"CallBack\" after each epoch"
   ]
  },
  {
   "cell_type": "code",
   "execution_count": 27,
   "metadata": {},
   "outputs": [],
   "source": [
    "del model"
   ]
  },
  {
   "cell_type": "code",
   "execution_count": 28,
   "metadata": {},
   "outputs": [],
   "source": [
    "keras.backend.clear_session()"
   ]
  },
  {
   "cell_type": "code",
   "execution_count": 29,
   "metadata": {},
   "outputs": [],
   "source": [
    "np.random.seed(42)\n",
    "tf.random.set_seed(42)\n",
    "model = keras.models.Sequential([\n",
    "    keras.layers.Dense(30, activation = \"relu\", input_shape = x_train.shape[1:]),\n",
    "    keras.layers.Dense(30, activation = \"relu\"),\n",
    "    keras.layers.Dense(1)\n",
    "])"
   ]
  },
  {
   "cell_type": "code",
   "execution_count": 30,
   "metadata": {},
   "outputs": [],
   "source": [
    "model.compile(loss = \"mse\",\n",
    "             optimizer = keras.optimizers.SGD(lr = 1e-3))"
   ]
  },
  {
   "cell_type": "code",
   "execution_count": 31,
   "metadata": {},
   "outputs": [
    {
     "name": "stdout",
     "output_type": "stream",
     "text": [
      "Model: \"sequential\"\n",
      "_________________________________________________________________\n",
      "Layer (type)                 Output Shape              Param #   \n",
      "=================================================================\n",
      "dense (Dense)                (None, 30)                270       \n",
      "_________________________________________________________________\n",
      "dense_1 (Dense)              (None, 30)                930       \n",
      "_________________________________________________________________\n",
      "dense_2 (Dense)              (None, 1)                 31        \n",
      "=================================================================\n",
      "Total params: 1,231\n",
      "Trainable params: 1,231\n",
      "Non-trainable params: 0\n",
      "_________________________________________________________________\n"
     ]
    }
   ],
   "source": [
    "model.summary()"
   ]
  },
  {
   "cell_type": "markdown",
   "metadata": {},
   "source": [
    "Now we will call the \"callbacks\" method before \"fitting\" the model. "
   ]
  },
  {
   "cell_type": "code",
   "execution_count": 32,
   "metadata": {},
   "outputs": [],
   "source": [
    "checkPoint_cb = keras.callbacks.ModelCheckpoint(\"myfunction-{epoch:02d}.h5\")"
   ]
  },
  {
   "cell_type": "markdown",
   "metadata": {},
   "source": [
    "here \"{epoch:02d}\" means that it is saving each epoch iteration of the model upto (01 to 99)<br>\n",
    "if suppose we have 300 epochs runnig into our model then to save each epoch we write \"{epoch:03d}\" which can save upto (001 to 999) model. <br>\n",
    "Thus we can see each epoch of the model. <br>\n",
    "if we dont use \"{epoch:02d}\" then the file was going to rewrite itself after each epoch."
   ]
  },
  {
   "cell_type": "code",
   "execution_count": 33,
   "metadata": {},
   "outputs": [
    {
     "name": "stdout",
     "output_type": "stream",
     "text": [
      "Train on 11610 samples, validate on 3870 samples\n",
      "Epoch 1/10\n",
      "11610/11610 [==============================] - 1s 101us/sample - loss: 1.8847 - val_loss: 0.7999\n",
      "Epoch 2/10\n",
      "11610/11610 [==============================] - 1s 84us/sample - loss: 0.6797 - val_loss: 0.6391\n",
      "Epoch 3/10\n",
      "11610/11610 [==============================] - 1s 83us/sample - loss: 0.6121 - val_loss: 0.5647\n",
      "Epoch 4/10\n",
      "11610/11610 [==============================] - 1s 81us/sample - loss: 0.5777 - val_loss: 0.5327\n",
      "Epoch 5/10\n",
      "11610/11610 [==============================] - 1s 87us/sample - loss: 0.5482 - val_loss: 0.5056\n",
      "Epoch 6/10\n",
      "11610/11610 [==============================] - 1s 79us/sample - loss: 0.5265 - val_loss: 0.4895\n",
      "Epoch 7/10\n",
      "11610/11610 [==============================] - 1s 80us/sample - loss: 0.5077 - val_loss: 0.4793\n",
      "Epoch 8/10\n",
      "11610/11610 [==============================] - 1s 76us/sample - loss: 0.4935 - val_loss: 0.5137\n",
      "Epoch 9/10\n",
      "11610/11610 [==============================] - 1s 74us/sample - loss: 0.4801 - val_loss: 0.4438\n",
      "Epoch 10/10\n",
      "11610/11610 [==============================] - 1s 75us/sample - loss: 0.4718 - val_loss: 0.4752\n"
     ]
    }
   ],
   "source": [
    "model_history = model.fit(x_train, y_train, epochs = 10, validation_data = (x_valid, y_valid), callbacks = [checkPoint_cb])"
   ]
  },
  {
   "cell_type": "code",
   "execution_count": 34,
   "metadata": {},
   "outputs": [
    {
     "name": "stdout",
     "output_type": "stream",
     "text": [
      "5160/5160 [==============================] - 0s 35us/sample - loss: 0.4640\n"
     ]
    }
   ],
   "source": [
    "mae_test = model.evaluate(x_test, y_test)"
   ]
  },
  {
   "cell_type": "code",
   "execution_count": 35,
   "metadata": {},
   "outputs": [
    {
     "name": "stdout",
     "output_type": "stream",
     "text": [
      "[[0.6096904]\n",
      " [1.6098471]\n",
      " [2.8602579]]\n",
      "[0.477   0.458   5.00001]\n"
     ]
    }
   ],
   "source": [
    "y_pred = model.predict(x_new)\n",
    "print(y_pred)\n",
    "print(y_test[:3])"
   ]
  },
  {
   "cell_type": "markdown",
   "metadata": {},
   "source": [
    "# Saving the Best Model"
   ]
  },
  {
   "cell_type": "code",
   "execution_count": 36,
   "metadata": {},
   "outputs": [
    {
     "name": "stdout",
     "output_type": "stream",
     "text": [
      "Model: \"sequential\"\n",
      "_________________________________________________________________\n",
      "Layer (type)                 Output Shape              Param #   \n",
      "=================================================================\n",
      "dense (Dense)                (None, 30)                270       \n",
      "_________________________________________________________________\n",
      "dense_1 (Dense)              (None, 30)                930       \n",
      "_________________________________________________________________\n",
      "dense_2 (Dense)              (None, 1)                 31        \n",
      "=================================================================\n",
      "Total params: 1,231\n",
      "Trainable params: 1,231\n",
      "Non-trainable params: 0\n",
      "_________________________________________________________________\n"
     ]
    }
   ],
   "source": [
    "del model\n",
    "keras.backend.clear_session()\n",
    "np.random.seed(42)\n",
    "tf.random.set_seed(42)\n",
    "model = keras.models.Sequential([\n",
    "    keras.layers.Dense(30, activation = \"relu\", input_shape = x_train.shape[1:]),\n",
    "    keras.layers.Dense(30, activation = \"relu\"),\n",
    "    keras.layers.Dense(1)\n",
    "])\n",
    "model.compile(loss = \"mse\",\n",
    "             optimizer = keras.optimizers.SGD(lr = 1e-3))\n",
    "model.summary()"
   ]
  },
  {
   "cell_type": "markdown",
   "metadata": {},
   "source": [
    "Now for saving the best model we will use the \"save_best_only\" parameter"
   ]
  },
  {
   "cell_type": "code",
   "execution_count": 37,
   "metadata": {},
   "outputs": [],
   "source": [
    "checkPoint_cb = keras.callbacks.ModelCheckpoint(\"bestModel.h5\", save_best_only = True)"
   ]
  },
  {
   "cell_type": "code",
   "execution_count": 38,
   "metadata": {},
   "outputs": [
    {
     "name": "stdout",
     "output_type": "stream",
     "text": [
      "Train on 11610 samples, validate on 3870 samples\n",
      "Epoch 1/10\n",
      "11610/11610 [==============================] - 1s 100us/sample - loss: 1.8847 - val_loss: 0.7999\n",
      "Epoch 2/10\n",
      "11610/11610 [==============================] - 1s 86us/sample - loss: 0.6797 - val_loss: 0.6391\n",
      "Epoch 3/10\n",
      "11610/11610 [==============================] - 1s 74us/sample - loss: 0.6121 - val_loss: 0.5647\n",
      "Epoch 4/10\n",
      "11610/11610 [==============================] - 1s 76us/sample - loss: 0.5777 - val_loss: 0.5327\n",
      "Epoch 5/10\n",
      "11610/11610 [==============================] - 1s 73us/sample - loss: 0.5482 - val_loss: 0.5056\n",
      "Epoch 6/10\n",
      "11610/11610 [==============================] - 1s 77us/sample - loss: 0.5265 - val_loss: 0.4895\n",
      "Epoch 7/10\n",
      "11610/11610 [==============================] - 1s 84us/sample - loss: 0.5077 - val_loss: 0.4793\n",
      "Epoch 8/10\n",
      "11610/11610 [==============================] - 1s 76us/sample - loss: 0.4935 - val_loss: 0.5137\n",
      "Epoch 9/10\n",
      "11610/11610 [==============================] - 1s 76us/sample - loss: 0.4801 - val_loss: 0.4438\n",
      "Epoch 10/10\n",
      "11610/11610 [==============================] - 1s 74us/sample - loss: 0.4718 - val_loss: 0.4752\n"
     ]
    }
   ],
   "source": [
    "model_history = model.fit(x_train, y_train, epochs = 10, validation_data = (x_valid, y_valid), callbacks = [checkPoint_cb])"
   ]
  },
  {
   "cell_type": "markdown",
   "metadata": {},
   "source": [
    "# Saving the best model while Stop if Accuracy does not increase"
   ]
  },
  {
   "cell_type": "code",
   "execution_count": 39,
   "metadata": {},
   "outputs": [
    {
     "name": "stdout",
     "output_type": "stream",
     "text": [
      "Model: \"sequential\"\n",
      "_________________________________________________________________\n",
      "Layer (type)                 Output Shape              Param #   \n",
      "=================================================================\n",
      "dense (Dense)                (None, 30)                270       \n",
      "_________________________________________________________________\n",
      "dense_1 (Dense)              (None, 30)                930       \n",
      "_________________________________________________________________\n",
      "dense_2 (Dense)              (None, 1)                 31        \n",
      "=================================================================\n",
      "Total params: 1,231\n",
      "Trainable params: 1,231\n",
      "Non-trainable params: 0\n",
      "_________________________________________________________________\n"
     ]
    }
   ],
   "source": [
    "del model\n",
    "keras.backend.clear_session()\n",
    "np.random.seed(42)\n",
    "tf.random.set_seed(42)\n",
    "model = keras.models.Sequential([\n",
    "    keras.layers.Dense(30, activation = \"relu\", input_shape = x_train.shape[1:]),\n",
    "    keras.layers.Dense(30, activation = \"relu\"),\n",
    "    keras.layers.Dense(1)\n",
    "])\n",
    "model.compile(loss = \"mse\",\n",
    "             optimizer = keras.optimizers.SGD(lr = 1e-3))\n",
    "model.summary()"
   ]
  },
  {
   "cell_type": "code",
   "execution_count": 40,
   "metadata": {},
   "outputs": [],
   "source": [
    "checkPoint_cb = keras.callbacks.ModelCheckpoint(\"bestModelSoFar.h5\", save_best_only = True)"
   ]
  },
  {
   "cell_type": "code",
   "execution_count": 41,
   "metadata": {},
   "outputs": [],
   "source": [
    "earlyStopping_cb = keras.callbacks.EarlyStopping(patience = 10, restore_best_weights = True)"
   ]
  },
  {
   "cell_type": "markdown",
   "metadata": {},
   "source": [
    "Here \"patience\" is the number of epoch value with no improvement on validation datasets and after this much the training will stop and save the previously best predicted epoch cycle."
   ]
  },
  {
   "cell_type": "markdown",
   "metadata": {},
   "source": [
    "##### This is the optimal way to get a good prediction."
   ]
  },
  {
   "cell_type": "code",
   "execution_count": 42,
   "metadata": {
    "scrolled": true
   },
   "outputs": [
    {
     "name": "stdout",
     "output_type": "stream",
     "text": [
      "Train on 11610 samples, validate on 3870 samples\n",
      "Epoch 1/200\n",
      "11610/11610 [==============================] - 1s 98us/sample - loss: 1.8847 - val_loss: 0.7999\n",
      "Epoch 2/200\n",
      "11610/11610 [==============================] - 1s 80us/sample - loss: 0.6797 - val_loss: 0.6391\n",
      "Epoch 3/200\n",
      "11610/11610 [==============================] - 1s 83us/sample - loss: 0.6121 - val_loss: 0.5647\n",
      "Epoch 4/200\n",
      "11610/11610 [==============================] - 1s 84us/sample - loss: 0.5777 - val_loss: 0.5327\n",
      "Epoch 5/200\n",
      "11610/11610 [==============================] - 1s 72us/sample - loss: 0.5482 - val_loss: 0.5056\n",
      "Epoch 6/200\n",
      "11610/11610 [==============================] - 1s 80us/sample - loss: 0.5265 - val_loss: 0.4895\n",
      "Epoch 7/200\n",
      "11610/11610 [==============================] - 1s 76us/sample - loss: 0.5077 - val_loss: 0.4793\n",
      "Epoch 8/200\n",
      "11610/11610 [==============================] - 1s 79us/sample - loss: 0.4935 - val_loss: 0.5137\n",
      "Epoch 9/200\n",
      "11610/11610 [==============================] - 1s 78us/sample - loss: 0.4801 - val_loss: 0.4438\n",
      "Epoch 10/200\n",
      "11610/11610 [==============================] - 1s 76us/sample - loss: 0.4718 - val_loss: 0.4752\n",
      "Epoch 11/200\n",
      "11610/11610 [==============================] - 1s 78us/sample - loss: 0.4619 - val_loss: 0.4274\n",
      "Epoch 12/200\n",
      "11610/11610 [==============================] - 1s 76us/sample - loss: 0.4562 - val_loss: 0.4284\n",
      "Epoch 13/200\n",
      "11610/11610 [==============================] - 1s 76us/sample - loss: 0.4492 - val_loss: 0.4552\n",
      "Epoch 14/200\n",
      "11610/11610 [==============================] - 1s 73us/sample - loss: 0.4435 - val_loss: 0.4095\n",
      "Epoch 15/200\n",
      "11610/11610 [==============================] - 1s 71us/sample - loss: 0.4398 - val_loss: 0.4226\n",
      "Epoch 16/200\n",
      "11610/11610 [==============================] - 1s 71us/sample - loss: 0.4345 - val_loss: 0.4508\n",
      "Epoch 17/200\n",
      "11610/11610 [==============================] - 1s 74us/sample - loss: 0.4303 - val_loss: 0.4041\n",
      "Epoch 18/200\n",
      "11610/11610 [==============================] - 1s 75us/sample - loss: 0.4293 - val_loss: 0.4939\n",
      "Epoch 19/200\n",
      "11610/11610 [==============================] - 1s 72us/sample - loss: 0.4244 - val_loss: 0.4024\n",
      "Epoch 20/200\n",
      "11610/11610 [==============================] - 1s 71us/sample - loss: 0.4227 - val_loss: 0.4417\n",
      "Epoch 21/200\n",
      "11610/11610 [==============================] - 1s 77us/sample - loss: 0.4172 - val_loss: 0.3898\n",
      "Epoch 22/200\n",
      "11610/11610 [==============================] - 1s 76us/sample - loss: 0.4143 - val_loss: 0.4012\n",
      "Epoch 23/200\n",
      "11610/11610 [==============================] - 1s 77us/sample - loss: 0.4110 - val_loss: 0.3823\n",
      "Epoch 24/200\n",
      "11610/11610 [==============================] - 1s 76us/sample - loss: 0.4087 - val_loss: 0.3882\n",
      "Epoch 25/200\n",
      "11610/11610 [==============================] - 1s 78us/sample - loss: 0.4060 - val_loss: 0.3896\n",
      "Epoch 26/200\n",
      "11610/11610 [==============================] - 1s 79us/sample - loss: 0.4032 - val_loss: 0.3768\n",
      "Epoch 27/200\n",
      "11610/11610 [==============================] - 1s 77us/sample - loss: 0.4020 - val_loss: 0.4100\n",
      "Epoch 28/200\n",
      "11610/11610 [==============================] - 1s 79us/sample - loss: 0.3991 - val_loss: 0.3726\n",
      "Epoch 29/200\n",
      "11610/11610 [==============================] - 1s 76us/sample - loss: 0.3972 - val_loss: 0.3781\n",
      "Epoch 30/200\n",
      "11610/11610 [==============================] - 1s 78us/sample - loss: 0.3947 - val_loss: 0.3883\n",
      "Epoch 31/200\n",
      "11610/11610 [==============================] - 1s 76us/sample - loss: 0.3929 - val_loss: 0.3666\n",
      "Epoch 32/200\n",
      "11610/11610 [==============================] - 1s 70us/sample - loss: 0.3912 - val_loss: 0.3804\n",
      "Epoch 33/200\n",
      "11610/11610 [==============================] - 1s 74us/sample - loss: 0.3892 - val_loss: 0.3640\n",
      "Epoch 34/200\n",
      "11610/11610 [==============================] - 1s 74us/sample - loss: 0.3879 - val_loss: 0.3908\n",
      "Epoch 35/200\n",
      "11610/11610 [==============================] - 1s 79us/sample - loss: 0.3858 - val_loss: 0.3661\n",
      "Epoch 36/200\n",
      "11610/11610 [==============================] - 1s 78us/sample - loss: 0.3843 - val_loss: 0.4043\n",
      "Epoch 37/200\n",
      "11610/11610 [==============================] - 1s 70us/sample - loss: 0.3829 - val_loss: 0.3660\n",
      "Epoch 38/200\n",
      "11610/11610 [==============================] - 1s 70us/sample - loss: 0.3824 - val_loss: 0.4096\n",
      "Epoch 39/200\n",
      "11610/11610 [==============================] - 1s 69us/sample - loss: 0.3804 - val_loss: 0.3652\n",
      "Epoch 40/200\n",
      "11610/11610 [==============================] - 1s 71us/sample - loss: 0.3796 - val_loss: 0.4104\n",
      "Epoch 41/200\n",
      "11610/11610 [==============================] - 1s 76us/sample - loss: 0.3778 - val_loss: 0.3653\n",
      "Epoch 42/200\n",
      "11610/11610 [==============================] - 1s 78us/sample - loss: 0.3769 - val_loss: 0.4243\n",
      "Epoch 43/200\n",
      "11610/11610 [==============================] - 1s 71us/sample - loss: 0.3761 - val_loss: 0.3774\n"
     ]
    }
   ],
   "source": [
    "model_history = model.fit(x_train, y_train, epochs = 200, validation_data = (x_valid, y_valid), callbacks = [checkPoint_cb, earlyStopping_cb])"
   ]
  },
  {
   "cell_type": "markdown",
   "metadata": {},
   "source": [
    "Here though 200 epoch has been used to fit the model, our model stopped after 43 epochs as we have used an early callbacks."
   ]
  }
 ],
 "metadata": {
  "kernelspec": {
   "display_name": "Python 3",
   "language": "python",
   "name": "python3"
  },
  "language_info": {
   "codemirror_mode": {
    "name": "ipython",
    "version": 3
   },
   "file_extension": ".py",
   "mimetype": "text/x-python",
   "name": "python",
   "nbconvert_exporter": "python",
   "pygments_lexer": "ipython3",
   "version": "3.7.7"
  }
 },
 "nbformat": 4,
 "nbformat_minor": 4
}
